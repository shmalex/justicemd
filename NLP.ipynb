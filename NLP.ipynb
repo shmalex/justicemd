{
 "cells": [
  {
   "cell_type": "code",
   "execution_count": 6,
   "metadata": {},
   "outputs": [],
   "source": [
    "%load_ext autoreload\n",
    "%autoreload 2\n",
    "import autoreload\n",
    "%matplotlib inline\n",
    "\n",
    "import warnings\n",
    "from datetime import datetime\n",
    "from urllib.parse import urlparse\n",
    "from collections import Counter, OrderedDict\n",
    "import timeit\n",
    "from time import sleep\n",
    "import os\n",
    "import path\n",
    "import io\n",
    "import errno\n",
    "import requests as r\n",
    "import builtins\n",
    "from bs4 import BeautifulSoup\n",
    "from bs4.element import Comment\n",
    "import urllib.request\n",
    "\n",
    "import pickle\n",
    "#import psycopg2\n",
    "from numpy.linalg import svd, eig\n",
    "\n",
    "import matplotlib.patches as patches\n",
    "import matplotlib.pyplot as plt\n",
    "import matplotlib.cm as cm\n",
    "import spacy, re, nltk, gensim\n",
    "import numpy as np\n",
    "from numpy.linalg import svd, eig\n",
    "import pandas as pd\n",
    "from pandas.tools.plotting import scatter_matrix\n",
    "import itertools as it\n",
    "import argparse\n",
    "\n",
    "# Sklearn\n",
    "\n",
    "from sklearn.cluster import KMeans, AgglomerativeClustering\n",
    "from sklearn.datasets import load_iris, fetch_olivetti_faces\n",
    "from sklearn.decomposition import PCA, TruncatedSVD, LatentDirichletAllocation\n",
    "from sklearn.preprocessing import StandardScaler\n",
    "from sklearn.feature_extraction.text import CountVectorizer, TfidfVectorizer\n",
    "from sklearn.model_selection import GridSearchCV\n",
    "from sklearn.metrics import silhouette_score\n",
    "\n",
    "from pprint import pprint\n",
    "\n",
    "# Plotting tools\n",
    "#import pyLDAvis.sklearn\n",
    "from dask.multiprocessing import get\n",
    "import dask.dataframe as dd\n",
    "import langdetect\n",
    "\n",
    "\n",
    "# Always make it pretty.\n",
    "# plt.style.use('default')\n",
    "plt.style.use('ggplot')\n",
    "%matplotlib inline\n"
   ]
  },
  {
   "cell_type": "code",
   "execution_count": 4,
   "metadata": {},
   "outputs": [
    {
     "name": "stdout",
     "output_type": "stream",
     "text": [
      "Collecting xx_ent_wiki_sm==2.0.0 from https://github.com/explosion/spacy-models/releases/download/xx_ent_wiki_sm-2.0.0/xx_ent_wiki_sm-2.0.0.tar.gz#egg=xx_ent_wiki_sm==2.0.0\n",
      "\u001b[?25l  Downloading https://github.com/explosion/spacy-models/releases/download/xx_ent_wiki_sm-2.0.0/xx_ent_wiki_sm-2.0.0.tar.gz (32.6MB)\n",
      "\u001b[K    100% |████████████████████████████████| 32.6MB 5.8MB/s \n",
      "\u001b[?25hInstalling collected packages: xx-ent-wiki-sm\n",
      "  Running setup.py install for xx-ent-wiki-sm ... \u001b[?25ldone\n",
      "\u001b[?25hSuccessfully installed xx-ent-wiki-sm-2.0.0\n",
      "\n",
      "\u001b[93m    Linking successful\u001b[0m\n",
      "    /anaconda3/lib/python3.6/site-packages/xx_ent_wiki_sm -->\n",
      "    /anaconda3/lib/python3.6/site-packages/spacy/data/xx_ent_wiki_sm\n",
      "\n",
      "    You can now load the model via spacy.load('xx_ent_wiki_sm')\n",
      "\n"
     ]
    }
   ],
   "source": [
    "!python -m spacy download xx_ent_wiki_sm"
   ]
  },
  {
   "cell_type": "code",
   "execution_count": 3,
   "metadata": {},
   "outputs": [
    {
     "name": "stdout",
     "output_type": "stream",
     "text": [
      "\n",
      "\u001b[93m    Compatibility error\u001b[0m\n",
      "    No compatible model found for 'ru' (spaCy v2.0.16).\n",
      "\n"
     ]
    }
   ],
   "source": [
    "!python -m spacy download ru"
   ]
  },
  {
   "cell_type": "code",
   "execution_count": 894,
   "metadata": {},
   "outputs": [],
   "source": [
    "from gensim.corpora import Dictionary, MmCorpus\n",
    "from gensim.models.ldamulticore import LdaMulticore"
   ]
  },
  {
   "cell_type": "code",
   "execution_count": 65,
   "metadata": {},
   "outputs": [],
   "source": [
    "from spacy.lang.ru import Russian\n",
    "from os import listdir\n",
    "from os.path import isfile, join\n",
    "import codecs \n"
   ]
  },
  {
   "cell_type": "code",
   "execution_count": 11,
   "metadata": {},
   "outputs": [
    {
     "name": "stdout",
     "output_type": "stream",
     "text": [
      "Collecting pymorphy2==0.8\n",
      "\u001b[?25l  Downloading https://files.pythonhosted.org/packages/a3/33/fff9675c68b5f6c63ec8c6e6ff57827dda28a1fa5b2c2d727dffff92dd47/pymorphy2-0.8-py2.py3-none-any.whl (46kB)\n",
      "\u001b[K    100% |████████████████████████████████| 51kB 1.6MB/s \n",
      "\u001b[?25hCollecting dawg-python>=0.7 (from pymorphy2==0.8)\n",
      "  Downloading https://files.pythonhosted.org/packages/6a/84/ff1ce2071d4c650ec85745766c0047ccc3b5036f1d03559fd46bb38b5eeb/DAWG_Python-0.7.2-py2.py3-none-any.whl\n",
      "Requirement already satisfied: docopt>=0.6 in /Users/tbd/.local/lib/python3.6/site-packages (from pymorphy2==0.8) (0.6.2)\n",
      "Collecting pymorphy2-dicts<3.0,>=2.4 (from pymorphy2==0.8)\n",
      "\u001b[?25l  Downloading https://files.pythonhosted.org/packages/02/51/2465fd4f72328ab50877b54777764d928da8cb15b74e2680fc1bd8cb3173/pymorphy2_dicts-2.4.393442.3710985-py2.py3-none-any.whl (7.1MB)\n",
      "\u001b[K    100% |████████████████████████████████| 7.1MB 3.0MB/s \n",
      "\u001b[?25hInstalling collected packages: dawg-python, pymorphy2-dicts, pymorphy2\n",
      "Successfully installed dawg-python-0.7.2 pymorphy2-0.8 pymorphy2-dicts-2.4.393442.3710985\n"
     ]
    }
   ],
   "source": [
    "!pip install pymorphy2==0.8"
   ]
  },
  {
   "cell_type": "code",
   "execution_count": 915,
   "metadata": {},
   "outputs": [],
   "source": [
    "def tag_visible(element):\n",
    "    if element.parent.name in ['style', 'script', 'head', 'title', 'meta', '[document]']:\n",
    "        return False\n",
    "    if isinstance(element, Comment):\n",
    "        return False\n",
    "    if element == '\\n':\n",
    "        return False\n",
    "    if element == ' ':\n",
    "        return False\n",
    "    return True\n",
    "\n",
    "#def clean(element):\n",
    "#    for e in element.replace('\\n', ' '):\n",
    "#        yield e.replace('\\xa0',' ')\n",
    "def clean(element):\n",
    "    \n",
    "# ст n чb  п şi de în a  d \n",
    "    return element.lower().replace('nr.','номер ').replace('статья',' ').replace('ст.',' ').replace('ч.','часть ')\\\n",
    "        .replace('_',' ').replace('|',' ').replace('/',' ').replace('\\n', ' ').replace('\\xa0',' ').replace('    ',' ').replace('  ',' ')\\\n",
    "        .replace('  ',' ').strip()\n",
    "\n",
    "def text_from_html(body):\n",
    "    soup = BeautifulSoup(body, 'html.parser')\n",
    "    texts = soup.findAll(text=True)\n",
    "    visible_texts = filter(tag_visible, texts)  \n",
    "    return u\" \".join(t.strip() for t in visible_texts)\n",
    "\n",
    "\n",
    "def get_name(i):\n",
    "    return 'dochtml/'+str(i//10000).zfill(3)+'/'+str(i//100).zfill(5)+'/'+str(i).zfill(3)+\".txt\"\n",
    "\n",
    "\n",
    "\n",
    "def del_tr(el, tag):\n",
    "    if el.parent == None:\n",
    "        return\n",
    "    if el.parent.name == tag:\n",
    "        el.extract()\n",
    "        return\n",
    "    del_tr(el.parent, tag)\n",
    "\n",
    "def del_by_text(soup, text):\n",
    "    els = soup.findAll(text=re.compile(text))\n",
    "    if (len(els) >0):\n",
    "        del_tr(els[0], 'tr')\n",
    "\n",
    "def del_by_tag(soup, tag):\n",
    "    els = soup.findAll(tag)\n",
    "    if (len(els) >0):\n",
    "        del_tr(els[0], 'tr')\n",
    "\n",
    "def read_text(fileName):\n",
    "    html = open(fileName, 'rb').read()\n",
    "    soup = BeautifulSoup(html, 'html.parser')\n",
    "    extract(soup.findAll(attrs={\"class\" : \"doc_sign1\"}))\n",
    "    extract(soup.findAll(name='script'))\n",
    "    extract(soup.findAll(name='style'))\n",
    "    del_by_text(soup, r'Внутренний номер')\n",
    "    del_by_text(soup, r'Карточка документа')\n",
    "    del_by_text(soup, r'Опубликован')\n",
    "    del_by_tag(soup, 'img')\n",
    "    del_by_tag(soup, 'strong')\n",
    "    del_by_tag(soup, 'strong')\n",
    "\n",
    "    texts = soup.findAll(text=True)\n",
    "    return [clean(filtered) for filtered in filter(tag_visible, texts)]"
   ]
  },
  {
   "cell_type": "code",
   "execution_count": 918,
   "metadata": {},
   "outputs": [],
   "source": [
    "def load_laws():\n",
    "    ret = []\n",
    "    for i in range(285022, 289815):\n",
    "        p = get_name(i)\n",
    "        if os.stat(p).st_size>70:\n",
    "            try:\n",
    "                ret.append((i, read_text(p)))\n",
    "            except Exception as ex:\n",
    "                pprint(p)\n",
    "                pprint(ex)\n",
    "    return ret"
   ]
  },
  {
   "cell_type": "code",
   "execution_count": 919,
   "metadata": {},
   "outputs": [
    {
     "name": "stdout",
     "output_type": "stream",
     "text": [
      "CPU times: user 7min, sys: 2.85 s, total: 7min 2s\n",
      "Wall time: 7min 6s\n"
     ]
    }
   ],
   "source": [
    "%%time\n",
    "paths = load_laws()"
   ]
  },
  {
   "cell_type": "code",
   "execution_count": 920,
   "metadata": {},
   "outputs": [
    {
     "data": {
      "text/plain": [
       "(285238,\n",
       " ['privind copiii luaţi la evidenţă pentru adopţie domiciliaţi',\n",
       "  'pe teritoriul autorităţilor tutelare:',\n",
       "  'cahul, telefon 239-2-37-19'])"
      ]
     },
     "execution_count": 920,
     "metadata": {},
     "output_type": "execute_result"
    }
   ],
   "source": [
    "paths[1]"
   ]
  },
  {
   "cell_type": "code",
   "execution_count": 921,
   "metadata": {},
   "outputs": [],
   "source": [
    "df = pd.DataFrame(paths, columns=['id', 'text'])"
   ]
  },
  {
   "cell_type": "code",
   "execution_count": 922,
   "metadata": {},
   "outputs": [],
   "source": [
    "def new_line_join(row):\n",
    "    p = row\n",
    "    return clean('\\n'.join(row))"
   ]
  },
  {
   "cell_type": "code",
   "execution_count": 923,
   "metadata": {},
   "outputs": [],
   "source": [
    "df['joined'] = df['text'].map(new_line_join)"
   ]
  },
  {
   "cell_type": "code",
   "execution_count": 924,
   "metadata": {},
   "outputs": [],
   "source": [
    "js = df.iloc[4512]['joined']"
   ]
  },
  {
   "cell_type": "code",
   "execution_count": 925,
   "metadata": {},
   "outputs": [],
   "source": [
    "df['is_clean'] = df['joined'] != js"
   ]
  },
  {
   "cell_type": "code",
   "execution_count": 926,
   "metadata": {},
   "outputs": [
    {
     "data": {
      "text/plain": [
       "id          310\n",
       "text        310\n",
       "joined      310\n",
       "is_clean    310\n",
       "dtype: int64"
      ]
     },
     "execution_count": 926,
     "metadata": {},
     "output_type": "execute_result"
    }
   ],
   "source": [
    "df[df['is_clean'] == 0].count()"
   ]
  },
  {
   "cell_type": "code",
   "execution_count": 929,
   "metadata": {},
   "outputs": [
    {
     "data": {
      "text/html": [
       "<div>\n",
       "<style scoped>\n",
       "    .dataframe tbody tr th:only-of-type {\n",
       "        vertical-align: middle;\n",
       "    }\n",
       "\n",
       "    .dataframe tbody tr th {\n",
       "        vertical-align: top;\n",
       "    }\n",
       "\n",
       "    .dataframe thead th {\n",
       "        text-align: right;\n",
       "    }\n",
       "</style>\n",
       "<table border=\"1\" class=\"dataframe\">\n",
       "  <thead>\n",
       "    <tr style=\"text-align: right;\">\n",
       "      <th></th>\n",
       "      <th>id</th>\n",
       "      <th>text</th>\n",
       "      <th>joined</th>\n",
       "      <th>is_clean</th>\n",
       "    </tr>\n",
       "  </thead>\n",
       "  <tbody>\n",
       "    <tr>\n",
       "      <th>0</th>\n",
       "      <td>285237</td>\n",
       "      <td>[rectificări]</td>\n",
       "      <td>rectificări</td>\n",
       "      <td>True</td>\n",
       "    </tr>\n",
       "    <tr>\n",
       "      <th>1</th>\n",
       "      <td>285238</td>\n",
       "      <td>[privind copiii luaţi la evidenţă pentru adopţ...</td>\n",
       "      <td>privind copiii luaţi la evidenţă pentru adopţi...</td>\n",
       "      <td>True</td>\n",
       "    </tr>\n",
       "    <tr>\n",
       "      <th>2</th>\n",
       "      <td>285239</td>\n",
       "      <td>[по проекту конституционного закона о внесении...</td>\n",
       "      <td>по проекту конституционного закона о внесении ...</td>\n",
       "      <td>True</td>\n",
       "    </tr>\n",
       "    <tr>\n",
       "      <th>3</th>\n",
       "      <td>285240</td>\n",
       "      <td>[по проекту закона о внесении изменений и допо...</td>\n",
       "      <td>по проекту закона о внесении изменений и допол...</td>\n",
       "      <td>True</td>\n",
       "    </tr>\n",
       "    <tr>\n",
       "      <th>4</th>\n",
       "      <td>285241</td>\n",
       "      <td>[заключение, по проекту конституционного закон...</td>\n",
       "      <td>заключение по проекту конституционного закона ...</td>\n",
       "      <td>True</td>\n",
       "    </tr>\n",
       "  </tbody>\n",
       "</table>\n",
       "</div>"
      ],
      "text/plain": [
       "       id                                               text  \\\n",
       "0  285237                                      [rectificări]   \n",
       "1  285238  [privind copiii luaţi la evidenţă pentru adopţ...   \n",
       "2  285239  [по проекту конституционного закона о внесении...   \n",
       "3  285240  [по проекту закона о внесении изменений и допо...   \n",
       "4  285241  [заключение, по проекту конституционного закон...   \n",
       "\n",
       "                                              joined  is_clean  \n",
       "0                                        rectificări      True  \n",
       "1  privind copiii luaţi la evidenţă pentru adopţi...      True  \n",
       "2  по проекту конституционного закона о внесении ...      True  \n",
       "3  по проекту закона о внесении изменений и допол...      True  \n",
       "4  заключение по проекту конституционного закона ...      True  "
      ]
     },
     "execution_count": 929,
     "metadata": {},
     "output_type": "execute_result"
    }
   ],
   "source": [
    "df.head()"
   ]
  },
  {
   "cell_type": "code",
   "execution_count": 931,
   "metadata": {},
   "outputs": [],
   "source": [
    "df['len'] = df['joined'].map(len)"
   ]
  },
  {
   "cell_type": "code",
   "execution_count": 938,
   "metadata": {},
   "outputs": [
    {
     "data": {
      "text/plain": [
       "<matplotlib.axes._subplots.AxesSubplot at 0x1c3eb04278>"
      ]
     },
     "execution_count": 938,
     "metadata": {},
     "output_type": "execute_result"
    },
    {
     "data": {
      "image/png": "[encoded data removed]",
      "text/plain": [
       "<Figure size 432x288 with 1 Axes>"
      ]
     },
     "metadata": {},
     "output_type": "display_data"
    }
   ],
   "source": [
    "df[df['len']>100000]['len'].hist(bins=50)"
   ]
  },
  {
   "cell_type": "code",
   "execution_count": 955,
   "metadata": {},
   "outputs": [
    {
     "data": {
      "text/plain": [
       "<matplotlib.axes._subplots.AxesSubplot at 0x1c46917f98>"
      ]
     },
     "execution_count": 955,
     "metadata": {},
     "output_type": "execute_result"
    },
    {
     "data": {
      "image/png": "[encoded data removed]",
      "text/plain": [
       "<Figure size 432x288 with 1 Axes>"
      ]
     },
     "metadata": {},
     "output_type": "display_data"
    }
   ],
   "source": [
    "df[(df['len'] < 1000)]['len'].hist(bins=50)"
   ]
  },
  {
   "cell_type": "code",
   "execution_count": 956,
   "metadata": {},
   "outputs": [
    {
     "data": {
      "text/plain": [
       "<matplotlib.axes._subplots.AxesSubplot at 0x1c2c684748>"
      ]
     },
     "execution_count": 956,
     "metadata": {},
     "output_type": "execute_result"
    },
    {
     "data": {
      "image/png": "[encoded data removed]",
      "text/plain": [
       "<Figure size 432x288 with 1 Axes>"
      ]
     },
     "metadata": {},
     "output_type": "display_data"
    }
   ],
   "source": [
    "df[(df['len'] > 2) & (df['len'] < 1000)]['len'].hist(bins=50)"
   ]
  },
  {
   "cell_type": "code",
   "execution_count": 939,
   "metadata": {},
   "outputs": [
    {
     "data": {
      "text/html": [
       "<div>\n",
       "<style scoped>\n",
       "    .dataframe tbody tr th:only-of-type {\n",
       "        vertical-align: middle;\n",
       "    }\n",
       "\n",
       "    .dataframe tbody tr th {\n",
       "        vertical-align: top;\n",
       "    }\n",
       "\n",
       "    .dataframe thead th {\n",
       "        text-align: right;\n",
       "    }\n",
       "</style>\n",
       "<table border=\"1\" class=\"dataframe\">\n",
       "  <thead>\n",
       "    <tr style=\"text-align: right;\">\n",
       "      <th></th>\n",
       "      <th>id</th>\n",
       "      <th>len</th>\n",
       "    </tr>\n",
       "  </thead>\n",
       "  <tbody>\n",
       "    <tr>\n",
       "      <th>count</th>\n",
       "      <td>4542.000000</td>\n",
       "      <td>4542.000000</td>\n",
       "    </tr>\n",
       "    <tr>\n",
       "      <th>mean</th>\n",
       "      <td>287522.303831</td>\n",
       "      <td>3243.205856</td>\n",
       "    </tr>\n",
       "    <tr>\n",
       "      <th>std</th>\n",
       "      <td>1315.969097</td>\n",
       "      <td>15216.377618</td>\n",
       "    </tr>\n",
       "    <tr>\n",
       "      <th>min</th>\n",
       "      <td>285237.000000</td>\n",
       "      <td>4.000000</td>\n",
       "    </tr>\n",
       "    <tr>\n",
       "      <th>25%</th>\n",
       "      <td>286385.250000</td>\n",
       "      <td>345.250000</td>\n",
       "    </tr>\n",
       "    <tr>\n",
       "      <th>50%</th>\n",
       "      <td>287524.500000</td>\n",
       "      <td>571.000000</td>\n",
       "    </tr>\n",
       "    <tr>\n",
       "      <th>75%</th>\n",
       "      <td>288660.750000</td>\n",
       "      <td>1597.500000</td>\n",
       "    </tr>\n",
       "    <tr>\n",
       "      <th>max</th>\n",
       "      <td>289814.000000</td>\n",
       "      <td>432606.000000</td>\n",
       "    </tr>\n",
       "  </tbody>\n",
       "</table>\n",
       "</div>"
      ],
      "text/plain": [
       "                  id            len\n",
       "count    4542.000000    4542.000000\n",
       "mean   287522.303831    3243.205856\n",
       "std      1315.969097   15216.377618\n",
       "min    285237.000000       4.000000\n",
       "25%    286385.250000     345.250000\n",
       "50%    287524.500000     571.000000\n",
       "75%    288660.750000    1597.500000\n",
       "max    289814.000000  432606.000000"
      ]
     },
     "execution_count": 939,
     "metadata": {},
     "output_type": "execute_result"
    }
   ],
   "source": [
    "df.describe()"
   ]
  },
  {
   "cell_type": "code",
   "execution_count": 987,
   "metadata": {},
   "outputs": [
    {
     "data": {
      "text/plain": [
       "id          4232\n",
       "text        4232\n",
       "joined      4232\n",
       "is_clean    4232\n",
       "len         4232\n",
       "dtype: int64"
      ]
     },
     "execution_count": 987,
     "metadata": {},
     "output_type": "execute_result"
    }
   ],
   "source": [
    "df[df['is_clean']].count()"
   ]
  },
  {
   "cell_type": "code",
   "execution_count": 66,
   "metadata": {},
   "outputs": [],
   "source": [
    "import codecs\n",
    "nlp = Russian()\n",
    "nlp.\n",
    "nlp.add_pipe(spacy.pipeline.SentenceSegmenter(nlp))"
   ]
  },
  {
   "cell_type": "code",
   "execution_count": 927,
   "metadata": {},
   "outputs": [],
   "source": [
    "text = df.iloc[0]['joined']"
   ]
  },
  {
   "cell_type": "code",
   "execution_count": 928,
   "metadata": {},
   "outputs": [
    {
     "data": {
      "text/plain": [
       "'rectificări'"
      ]
     },
     "execution_count": 928,
     "metadata": {},
     "output_type": "execute_result"
    }
   ],
   "source": [
    "text"
   ]
  },
  {
   "cell_type": "code",
   "execution_count": 311,
   "metadata": {},
   "outputs": [],
   "source": [
    "parsed_text = "
   ]
  },
  {
   "cell_type": "code",
   "execution_count": 940,
   "metadata": {},
   "outputs": [
    {
     "name": "stdout",
     "output_type": "stream",
     "text": [
      "12 . ac212648/200 ru False False False True False xxdddd/ddd\n",
      "6 . 212648 ru False True False True False dddd\n",
      "1 . : ru False False False True True :\n",
      "2 . от ru True False True False False xx\n",
      "10 . 08.08.2003 ru False False False True False dd.dd.dddd\n",
      "1 . \" ru False False False True True \"\n",
      "7 . privind ru True False False True False xxxx\n",
      "1 . \" ru False False False True True \"\n",
      "2 . şi ru True False False False False xx\n",
      "2 . de ru True False False True False xx\n",
      "2 . în ru True False False False False xx\n",
      "1 . a ru True False False True False x\n",
      "1 .   ru False False False True False  \n",
      "1 . d ru True False False True False x\n",
      "2 .    ru False False False True False   \n",
      "1 . | ru False False False True False |\n",
      "1 . _ ru False False False True True _\n",
      "2 . nr ru True False False True False xx\n",
      "1 . . ru False False False True True .\n",
      "6 . copiii ru True False False True False xxxx\n",
      "5 . luaţi ru True False False False False xxxx\n",
      "2 . la ru True False False True False xx\n",
      "8 . evidenţă ru True False False False False xxxx\n",
      "6 . pentru ru True False False True False xxxx\n",
      "7 . adopţie ru True False False False False xxxx\n",
      "11 . domiciliaţi ru True False False False False xxxx\n",
      "2 . pe ru True False False True False xx\n",
      "10 . teritoriul ru True False False True False xxxx\n",
      "13 . autorităţilor ru True False False False False xxxx\n",
      "8 . tutelare ru True False False True False xxxx\n",
      "5 . cahul ru True False False True False xxxx\n",
      "7 . telefon ru True False False True False xxxx\n",
      "3 . 239 ru False True False True False ddd\n",
      "1 . 2 ru False True False True False d\n",
      "2 . 37 ru False True False True False dd\n",
      "2 . 19 ru False True False True False dd\n",
      "12 . опубликовать ru True False False False False xxxx\n",
      "10 . 08.08.2003 ru False False False True False dd.dd.dddd\n",
      "1 . в ru True False True False False x\n",
      "9 . monitorul ru True False False True False xxxx\n",
      "7 . oficial ru True False False True False xxxx\n",
      "2 . nr ru True False False True False xx\n"
     ]
    }
   ],
   "source": [
    "for s in nlp('ac212648/200 212648 : от 08.08.2003 \"privind\" şi de în a  d   |_ nr. copiii luaţi la evidenţă pentru adopţie domiciliaţi pe teritoriul autorităţilor tutelare cahul telefon 239 2 37 19 опубликовать 08.08.2003 в monitorul oficial nr').sents:\n",
    "    for t in s:\n",
    "        print(len(t),'.',t,t.lang_, t.is_alpha, t.is_digit, t.is_stop, t.is_ascii, t.is_punct, t.shape_)"
   ]
  },
  {
   "cell_type": "code",
   "execution_count": 503,
   "metadata": {},
   "outputs": [
    {
     "data": {
      "text/plain": [
       "['1mo152 внутренний номер varianta în limba de stat карточка документ республика молдова monitorul oficial поправка номер rectificări опубликовать monitorul oficial номер промульгирован',\n",
       " 'ac212648 внутренний номер varianta în limba de stat карточка документ республика молдова другие эмитент информация номер privind copiii luaţi la evidenţă pentru adopţie domiciliaţi pe teritoriul autorităţilor tutelare cahul telefon опубликовать monitorul oficial номер статья № 225a',\n",
       " 'acc1 внутренний номер varianta în limba de stat карточка документ республика молдова конституционный суд заключение номер проект конституционного закон внесение изменение дополнение некоторые статьи конституции опубликовать monitorul oficial номер статья № дата вступления силу имя республики молдова конституционный суд состав павел барбалат председатель николай кисеев судья докладчик михай которобай судья константин лозовану судья ион василати судья докладчик участие корины попа секретаря заседания иона море иона унгуреану депутатов парламент авторов обращения руководствоваться статья часть п.с конституции статья часть п.с закон конституционном суд рассмотреть открытом пленарном заседание обращение группы депутатов парламент мирчи снегур еуджена русу владимира чобану серджиу мокану виктора жосу андрея стрымбяну тудора лефтер василе унт василе котунэ павла продать владимира реус иона унгуряну екатерины мардар александру мошану валериу матей валериу гилецки василе шоймару иона дедь иона рэзлог михая чорич василе неделчук георге марин аллы мындыкану виталии павличенко алексея тулбуре михая чимпой еуджена сырба иона море николай дабижа григор еремей алеку реницэ анатола дубровски виталие табунщик анатола чобану просить конституционный суд дать заключение проект закон внесение изменение дополнение некоторые статьи конституции республики молдова',\n",
       " 'конституционный суд наделенный правом высказываться предложение пересмотр конституции определение ноябрь года принять обращение рассмотрение существу включить повестка день',\n",
       " 'рассмотреть обращение проект конституционного закон представленный дачи заключения конституционный суд установить депутата парламент инициировавшие процедура пересмотр конституции республики молдова предложить внести изменения дополнения статья статья',\n",
       " 'согласно представленному проект конституционного закон предлагаться внести следующие изменения дополнения конституция названия статья исключить слова неприкосновенность исключить часть статья статья перед словом взгляды внести дополнение политические',\n",
       " 'группа депутатов парламент предлагать исключить часть статья конституции согласно депутат задержать арестовать подвергнут обыск кроме случай задержания место преступления привлечь судебной ответственности без согласия парламент данного после заслушивания депутата',\n",
       " 'группа депутатов считает депутат парламент подвергнут преследование привлечь судебной ответственности голосование политические взгляды высказанные исполнение мандат',\n",
       " 'мнение авторов выступивших инициатива пересмотр высшего закон часть статья статья конституции настоящей редакции противоречить статья часть конституции согласно гражданин республики молдова равный перед закон власть независимо расы национальности этнического происхождения языка религии пола взгляд политической принадлежности имущественного положения социального происхождения',\n",
       " 'высказаться инициативе группы депутатов пересмотр статья статья конституции конституционный суд отмечать следующее',\n",
       " 'соответствие с статья часть п.b конституции инициатива пересмотр высшего закон исходить менее трети депутатов парламент',\n",
       " 'поскольку согласно статья часть конституции парламент состоять депутата инициатива пересмотр конституции исходит депутатов составлять треть конституционный суд констатирует обращение соответствовать данному конституционному условие',\n",
       " 'анализ содержания проект конституционного закон свидетельствует превышать предел пересмотр конституции предусмотренных статья конституции соответствовать положение суверенном унитарном характер государства ограничивать основные права свободы граждан гарантии таковых',\n",
       " 'исходить изложенного руководствоваться статья часть п.с статья часть конституции статья часть закон конституционном суд статья часть статья п.а кодекс конституционной юрисдикции конституционный суд единогласно давать следующее заключение',\n",
       " 'пересмотр конституции инициированный депутат парламент соответствовать положение статья часть п.b конституции',\n",
       " '',\n",
       " 'положения проект конституционного закон превышать предел пересмотр конституции',\n",
       " '',\n",
       " 'проект закон пересмотр статья статья конституции редакции предложенной группа депутатов представить парламент рассмотрения существу',\n",
       " '',\n",
       " 'настоящее заключение являться окончательным обжалование подлежать вступать силу с день принятия публиковаться monitorul oficial al republicii moldova',\n",
       " 'председателъ конституционного суда павел барбалат кишинэу январь г',\n",
       " '№']"
      ]
     },
     "execution_count": 503,
     "metadata": {},
     "output_type": "execute_result"
    }
   ],
   "source": [
    "list(lemmatized_sentence_corpus(df[:3]))"
   ]
  },
  {
   "cell_type": "code",
   "execution_count": 941,
   "metadata": {},
   "outputs": [
    {
     "data": {
      "text/plain": [
       "['rectificări',\n",
       " 'privind copiii luaţi evidenţă pentru adopţie domiciliaţi teritoriul autorităţilor tutelare cahul telefon 239']"
      ]
     },
     "execution_count": 941,
     "metadata": {},
     "output_type": "execute_result"
    }
   ],
   "source": [
    "list(lemmatized_sentence_corpus(df[:2]))"
   ]
  },
  {
   "cell_type": "code",
   "execution_count": 771,
   "metadata": {},
   "outputs": [],
   "source": [
    "\n",
    "def punct_space(token):\n",
    "    \"\"\"\n",
    "    helper function to eliminate tokens\n",
    "    that are pure punctuation or whitespace\n",
    "    \"\"\"\n",
    "    \n",
    "    return len(token)<=2 or token.is_punct or token.is_space  or token.is_stop #or token.is_digit or token.shape_ == \"dd.dd.dddd\" or token.shape_ == \"dd.dd.dd\"\n",
    "\n",
    "def line_review(df):\n",
    "    \"\"\"\n",
    "    generator function to read in reviews from the file\n",
    "    and un-escape the original line breaks in the text\n",
    "    \"\"\"\n",
    "    for row in df[df['is_clean'] == 1]['text'].iteritems():\n",
    "        for line in row[1]:\n",
    "            yield line\n",
    "\n",
    "def all_line_review(df):\n",
    "    \"\"\"\n",
    "    generator function to read in reviews from the file\n",
    "    and un-escape the original line breaks in the text\n",
    "    \"\"\"\n",
    "    for row in df[df['is_clean'] == 1]['joined'].iteritems():\n",
    "        yield row[1]\n",
    "            \n",
    "def lemmatized_sentence_corpus(df):\n",
    "    \"\"\"\n",
    "    generator function to use spaCy to parse reviews,\n",
    "    lemmatize the text, and yield sentences\n",
    "    \"\"\"\n",
    "    \n",
    "    for parsed_review in nlp.pipe(all_line_review(df),\n",
    "                                  batch_size=1000, n_threads=-1):\n",
    "        \n",
    "        for sent in parsed_review.sents:\n",
    "            yield u' '.join([token.lemma_ for token in sent\n",
    "                             if not punct_space(token)])"
   ]
  },
  {
   "cell_type": "code",
   "execution_count": 957,
   "metadata": {},
   "outputs": [],
   "source": [
    "unigram_sentences_filepath = os.path.join('unigram_sentences_all_2.txt')"
   ]
  },
  {
   "cell_type": "code",
   "execution_count": 958,
   "metadata": {},
   "outputs": [
    {
     "name": "stdout",
     "output_type": "stream",
     "text": [
      "CPU times: user 4min 17s, sys: 690 ms, total: 4min 18s\n",
      "Wall time: 4min 19s\n"
     ]
    }
   ],
   "source": [
    "%%time\n",
    "with codecs.open(unigram_sentences_filepath, 'w', encoding='utf_8') as f:\n",
    "    for sentence in lemmatized_sentence_corpus(df):\n",
    "        f.write(sentence + '\\n')"
   ]
  },
  {
   "cell_type": "code",
   "execution_count": 959,
   "metadata": {},
   "outputs": [
    {
     "name": "stdout",
     "output_type": "stream",
     "text": [
      "перечисленные конституционные принципы являться составной частью пропагандистка риторики\n",
      "\n",
      "данные политические правовые ценности детализировать собрать система конституционных гарантия обеспечивающих основы государственности несоблюдение влечь соответствие конституции ответственность президента страны перед нация\n",
      "\n",
      "учитывать вышеизложенное считаю проблема поднять обращение президента республики молдова предмет рассмотрения конституционном суд действующая конституция допускать пересмотр высшего закон путем проведения референдум\n",
      "\n",
      "народ республики молдова согласно часть конституции осуществлять национальный суверенитет непосредственно путем принятия новой конституции текст иметь ничего общего текст ныне действующей конституции\n",
      "\n",
      "судья конституционного суда георге сусаренко м.о\n",
      "\n",
      "1999\n",
      "\n",
      "124 125\n",
      "\n",
      "проект закон дополнение 135 изменение 136 конституции республики молдова имя республики молдова конституционный суд состав виктор пушкаша председатель судья докладчик алина янученко судья мирча юг судья думитру пулбере судья елена сафалеру судья ион василати судья участие майи цуркан секретаря заседания иона мыцу постоянного представителя парламент конституционном суд николай ешану постоянного представителя правительства конституционном суд виталие пырлог представителя правительства европейском суд право человека соответствие 135 часть п.с 141 часть п.b конституции часть п.с закон конституционном суд часть п.с часть кодекс конституционной юрисдикции рассмотреть открытом пленарном заседание обращение депутатов парламент виктора степанюк марии постойко думитру прижмирян валериу дога валентина драган михаила кицул юрие стойкова юрие чичинова иона урс клавдии садковской владислава мостового антонины балдович бориса хотничук юрие еремина георге попа валериу буркэ джумбера тодуа серафимы борган димитрие карапиря татьяны некоарэ владимира драгомир олега манторова афанасие смокина марии чиканчи семиона драган михаила андроник ивана грек петру порубина виктории новик александру жданова анатолие стынгач мирчи антон алексея иванова ивана моисеева ивана калин запрос даче заключения конституционного суда проект закон изменение дополнение конституции\n",
      "\n",
      "определение октябрь 2004 года конституционный суд принять обращение рассмотрение существу включить повестка день\n",
      "\n",
      "ход предварительного рассмотрения обращения конституционный суд запросить точки зрения парламент президента республики молдова правительства министерства юстиции генеральной прокуратуры высшей судебной палаты академии публичного управления президент республики молдова представителя правительства европейском суд право человека центр право человека кафедры конституционного административного права государственного университет молдова также венецианской комиссии совет европа\n",
      "\n",
      "CPU times: user 3.58 ms, sys: 2.04 ms, total: 5.62 ms\n",
      "Wall time: 4.08 ms\n"
     ]
    }
   ],
   "source": [
    "%%time\n",
    "unigram_sentences = LineSentence(unigram_sentences_filepath)\n",
    "for unigram_sentence in it.islice(unigram_sentences, 230, 240):\n",
    "    print(' '.join(unigram_sentence))\n",
    "    print('')"
   ]
  },
  {
   "cell_type": "code",
   "execution_count": 960,
   "metadata": {},
   "outputs": [],
   "source": [
    "bigram_model_filepath = os.path.join( 'bigram_model_all')"
   ]
  },
  {
   "cell_type": "code",
   "execution_count": 961,
   "metadata": {},
   "outputs": [],
   "source": [
    "bigram_model = Phrases(unigram_sentences)\n",
    "bigram_model.save(bigram_model_filepath)\n",
    "# load the finished model from disk\n",
    "bigram_model = Phrases.load(bigram_model_filepath)"
   ]
  },
  {
   "cell_type": "code",
   "execution_count": 962,
   "metadata": {},
   "outputs": [
    {
     "name": "stderr",
     "output_type": "stream",
     "text": [
      "/anaconda3/lib/python3.6/site-packages/gensim/models/phrases.py:494: UserWarning: For a faster implementation, use the gensim.models.phrases.Phraser class\n",
      "  warnings.warn(\"For a faster implementation, use the gensim.models.phrases.Phraser class\")\n"
     ]
    },
    {
     "name": "stdout",
     "output_type": "stream",
     "text": [
      "перечисленные конституционные_принципы являться_составной частью пропагандистка риторики\n",
      "\n",
      "данные политические правовые ценности детализировать собрать система конституционных гарантия обеспечивающих основы государственности несоблюдение влечь соответствие конституции ответственность президента страны перед нация\n",
      "\n",
      "учитывать_вышеизложенное считаю проблема поднять обращение президента_республики молдова предмет рассмотрения конституционном_суд действующая конституция допускать пересмотр_высшего закон путем проведения_референдум\n",
      "\n",
      "народ республики_молдова согласно часть_конституции осуществлять национальный_суверенитет непосредственно путем_принятия новой конституции текст иметь ничего общего текст ныне действующей конституции\n",
      "\n",
      "судья конституционного_суда георге_сусаренко м.о\n",
      "\n",
      "1999\n",
      "\n",
      "124_125\n",
      "\n",
      "проект закон дополнение 135 изменение 136 конституции_республики молдова имя республики_молдова конституционный_суд состав_виктор пушкаша_председатель судья_докладчик алина_янученко судья_мирча юг_судья думитру_пулбере судья_елена сафалеру_судья ион_василати судья_участие майи_цуркан секретаря_заседания иона_мыцу постоянного_представителя парламент конституционном_суд николай ешану постоянного_представителя правительства конституционном_суд виталие пырлог представителя_правительства европейском суд право_человека соответствие 135_часть п.с_141 часть_п.b конституции часть_п.с закон_конституционном суд часть_п.с часть кодекс_конституционной юрисдикции_рассмотреть открытом_пленарном заседание обращение_депутатов парламент_виктора степанюк марии постойко думитру_прижмирян валериу дога валентина драган михаила кицул юрие стойкова юрие чичинова иона урс клавдии садковской владислава мостового антонины балдович бориса хотничук юрие еремина георге_попа валериу буркэ джумбера тодуа серафимы борган димитрие карапиря татьяны некоарэ владимира драгомир олега манторова афанасие смокина марии чиканчи семиона драган михаила андроник ивана грек петру порубина виктории новик александру жданова анатолие стынгач мирчи антон алексея иванова ивана моисеева ивана калин запрос даче заключения конституционного_суда проект закон изменение_дополнение конституции\n",
      "\n",
      "определение октябрь_2004 года конституционный_суд принять обращение рассмотрение_существу включить_повестка день\n",
      "\n",
      "ход_предварительного рассмотрения_обращения конституционный_суд запросить_точки зрения_парламент президента_республики молдова правительства министерства_юстиции генеральной_прокуратуры высшей_судебной палаты академии_публичного управления президент_республики молдова представителя_правительства европейском суд право_человека центр право_человека кафедры конституционного административного права государственного_университет молдова также венецианской комиссии совет_европа\n",
      "\n"
     ]
    }
   ],
   "source": [
    "bigram_sentences_filepath = os.path.join('bigram_sentences_all.txt')\n",
    "\n",
    "with codecs.open(bigram_sentences_filepath, 'w', encoding='utf_8') as f:\n",
    "    for unigram_sentence in unigram_sentences:\n",
    "        bigram_sentence = u' '.join(bigram_model[unigram_sentence])\n",
    "        f.write(bigram_sentence + '\\n')\n",
    "bigram_sentences = LineSentence(bigram_sentences_filepath)\n",
    "for bigram_sentence in it.islice(bigram_sentences, 230, 240):\n",
    "    print(' '.join(bigram_sentence))\n",
    "    print('')"
   ]
  },
  {
   "cell_type": "code",
   "execution_count": 963,
   "metadata": {},
   "outputs": [
    {
     "name": "stdout",
     "output_type": "stream",
     "text": [
      "CPU times: user 3.99 s, sys: 224 ms, total: 4.22 s\n",
      "Wall time: 4.23 s\n"
     ]
    }
   ],
   "source": [
    "%%time\n",
    "trigram_model_filepath = os.path.join('trigram_model_all')\n",
    "trigram_model = Phrases(bigram_sentences)\n",
    "trigram_model.save(trigram_model_filepath)\n",
    "# load the finished model from disk\n",
    "trigram_model = Phrases.load(trigram_model_filepath)\n",
    "trigram_sentences_filepath = os.path.join('trigram_sentences_all.txt')"
   ]
  },
  {
   "cell_type": "code",
   "execution_count": 964,
   "metadata": {},
   "outputs": [
    {
     "name": "stderr",
     "output_type": "stream",
     "text": [
      "/anaconda3/lib/python3.6/site-packages/gensim/models/phrases.py:494: UserWarning: For a faster implementation, use the gensim.models.phrases.Phraser class\n",
      "  warnings.warn(\"For a faster implementation, use the gensim.models.phrases.Phraser class\")\n"
     ]
    },
    {
     "name": "stdout",
     "output_type": "stream",
     "text": [
      "CPU times: user 4min 30s, sys: 657 ms, total: 4min 31s\n",
      "Wall time: 4min 32s\n"
     ]
    }
   ],
   "source": [
    "%%time\n",
    "trigram_reviews_filepath = os.path.join('trigram_transformed_reviews_all.txt')\n",
    "with codecs.open(trigram_reviews_filepath, 'w', encoding='utf_8') as f:\n",
    "    for parsed_review in nlp.pipe(all_line_review(df),\n",
    "                                  batch_size=1000, n_threads=-1):\n",
    "        # lemmatize the text, removing punctuation and whitespace\n",
    "        unigram_review = [token.lemma_ for token in parsed_review\n",
    "                          if not punct_space(token)]\n",
    "        # apply the first-order and second-order phrase models\n",
    "        bigram_review = bigram_model[unigram_review]\n",
    "        trigram_review = trigram_model[bigram_review]\n",
    "        # remove any remaining stopwords\n",
    "        trigram_review = [term for term in trigram_review\n",
    "                          if term not in stop_words]\n",
    "        # write the transformed review as a line in the new file\n",
    "        trigram_review = u' '.join(trigram_review)\n",
    "        f.write(trigram_review + '\\n')"
   ]
  },
  {
   "cell_type": "code",
   "execution_count": 965,
   "metadata": {},
   "outputs": [
    {
     "name": "stdout",
     "output_type": "stream",
     "text": [
      "CPU times: user 1.11 s, sys: 35.2 ms, total: 1.15 s\n",
      "Wall time: 1.15 s\n"
     ]
    }
   ],
   "source": [
    "%%time\n",
    "trigram_dictionary_filepath = os.path.join('trigram_dict_all.dict')\n",
    "trigram_reviews = LineSentence(trigram_reviews_filepath)\n",
    "\n",
    "# learn the dictionary by iterating over all of the reviews\n",
    "trigram_dictionary = Dictionary(trigram_reviews)\n",
    "\n",
    "# filter tokens that are very rare or too common from\n",
    "# the dictionary (filter_extremes) and reassign integer ids (compactify)\n",
    "trigram_dictionary.filter_extremes(no_below=10, no_above=0.4)\n",
    "trigram_dictionary.compactify()\n",
    "\n",
    "trigram_dictionary.save(trigram_dictionary_filepath)"
   ]
  },
  {
   "cell_type": "code",
   "execution_count": 966,
   "metadata": {},
   "outputs": [],
   "source": [
    "# load the finished dictionary from disk\n",
    "trigram_dictionary = Dictionary.load(trigram_dictionary_filepath)"
   ]
  },
  {
   "cell_type": "code",
   "execution_count": 967,
   "metadata": {},
   "outputs": [
    {
     "name": "stderr",
     "output_type": "stream",
     "text": [
      "/anaconda3/lib/python3.6/site-packages/gensim/models/phrases.py:494: UserWarning: For a faster implementation, use the gensim.models.phrases.Phraser class\n",
      "  warnings.warn(\"For a faster implementation, use the gensim.models.phrases.Phraser class\")\n"
     ]
    },
    {
     "name": "stdout",
     "output_type": "stream",
     "text": [
      "CPU times: user 4.44 s, sys: 82.6 ms, total: 4.52 s\n",
      "Wall time: 4.56 s\n"
     ]
    }
   ],
   "source": [
    "%%time\n",
    "with codecs.open(trigram_sentences_filepath, 'w', encoding='utf_8') as f:\n",
    "    for bigram_sentence in bigram_sentences:\n",
    "        trigram_sentence = u' '.join(trigram_model[bigram_sentence])\n",
    "        f.write(trigram_sentence + '\\n')"
   ]
  },
  {
   "cell_type": "code",
   "execution_count": 968,
   "metadata": {},
   "outputs": [
    {
     "name": "stdout",
     "output_type": "stream",
     "text": [
      "условие конституции закреплять требование равновесие власть требование практически осуществимое суд_отмечать пересмотр 136 конституции нарушать_принцип разделения_взаимодействия государственных власть предусмотренный конституция\n",
      "\n",
      "конституции предполагать возможность обязанность ветвь_власти взаимодействовать предел прерогатива исполнения государственной_власти\n",
      "\n",
      "учитывать независимость судьи любой публичной_власти требование предусмотренное 137 конституции назначение судьи_президент_республики_молдова являться вмешательство_деятельность законодательной судебной_власть\n",
      "\n",
      "следовательно проект_закон представленный конституционный_суд дачи_заключения вписываться пределы_пересмотр_конституции предусмотренные_142 конституции соответствовать_требование суверенном_независимом едином характер_государства\n",
      "\n",
      "сути положения_проект_конституционного закон ущемлять основные_права_свободы_граждан нарушать единство конституционной_материи\n",
      "\n",
      "исходить_изложенного_учитывать соответствие_141_часть конституции_проекты_конституционных закон представляться_парламент вместе_заключение_конституционного_суда руководствоваться_часть закон_конституционном_суд часть_кодекс_конституционной юрисдикции_конституционный_суд пять_голос судей_давать следующее_заключение\n",
      "\n",
      "пересмотр_конституции инициированный депутат_парламент соответствовать_положение_141_часть п.b_конституции\n",
      "\n",
      "проект_закон дополнение 135 изменение 136 конституции превышать допустимых предел_пересмотр конституции предусмотренных конституционный положение_142\n",
      "\n",
      "проект_закон дополнение 135 изменение 136 конституции представить_парламент_рассмотрения вместе_заключение_конституционного_суда\n",
      "\n",
      "настоящее_заключение_являться_окончательным обжалование_подлежать_вступать_силу день_принятия_публиковаться_monitorul oficial_republicii_moldova\n",
      "\n"
     ]
    }
   ],
   "source": [
    "trigram_sentences = LineSentence(trigram_sentences_filepath)\n",
    "for trigram_sentence in it.islice(trigram_sentences, 280, 290):\n",
    "    print(' '.join(trigram_sentence))\n",
    "    print('')"
   ]
  },
  {
   "cell_type": "code",
   "execution_count": 95,
   "metadata": {},
   "outputs": [
    {
     "name": "stdout",
     "output_type": "stream",
     "text": [
      "Collecting stop-words\n",
      "  Downloading https://files.pythonhosted.org/packages/1c/cb/d58290804b7a4c5daa42abbbe2a93c477ae53e45541b1825e86f0dfaaf63/stop-words-2018.7.23.tar.gz\n",
      "Building wheels for collected packages: stop-words\n",
      "  Running setup.py bdist_wheel for stop-words ... \u001b[?25ldone\n",
      "\u001b[?25h  Stored in directory: /Users/tbd/Library/Caches/pip/wheels/75/37/6a/2b295e03bd07290f0da95c3adb9a74ba95fbc333aa8b0c7c78\n",
      "Successfully built stop-words\n",
      "Installing collected packages: stop-words\n",
      "Successfully installed stop-words-2018.7.23\n"
     ]
    }
   ],
   "source": [
    "!pip install stop-words"
   ]
  },
  {
   "cell_type": "code",
   "execution_count": 393,
   "metadata": {},
   "outputs": [],
   "source": [
    "from stop_words import get_stop_words\n",
    "\n",
    "stop_words = get_stop_words('ru')"
   ]
  },
  {
   "cell_type": "code",
   "execution_count": 394,
   "metadata": {},
   "outputs": [
    {
     "data": {
      "text/plain": [
       "['а', 'в', 'г', 'е', 'ж', 'и', 'к', 'м', 'о', 'с']"
      ]
     },
     "execution_count": 394,
     "metadata": {},
     "output_type": "execute_result"
    }
   ],
   "source": [
    "stop_words[:10]"
   ]
  },
  {
   "cell_type": "code",
   "execution_count": 784,
   "metadata": {},
   "outputs": [],
   "source": [
    "def trigram_bow_generator(filepath):\n",
    "    \"\"\"\n",
    "    generator function to read reviews from a file\n",
    "    and yield a bag-of-words representation\n",
    "    \"\"\"\n",
    "    \n",
    "    for review in LineSentence(filepath):\n",
    "        yield trigram_dictionary.doc2bow(review)"
   ]
  },
  {
   "cell_type": "code",
   "execution_count": 969,
   "metadata": {},
   "outputs": [],
   "source": [
    "trigram_bow_filepath = os.path.join('trigram_bow_corpus_all.mm')"
   ]
  },
  {
   "cell_type": "code",
   "execution_count": 970,
   "metadata": {},
   "outputs": [],
   "source": [
    "MmCorpus.serialize(trigram_bow_filepath,\n",
    "                       trigram_bow_generator(trigram_reviews_filepath))\n",
    "\n",
    "# load the finished bag-of-words corpus from disk\n",
    "trigram_bow_corpus = MmCorpus(trigram_bow_filepath)"
   ]
  },
  {
   "cell_type": "code",
   "execution_count": 971,
   "metadata": {},
   "outputs": [],
   "source": [
    "trigram_bow_corpus.length"
   ]
  },
  {
   "cell_type": "code",
   "execution_count": 972,
   "metadata": {},
   "outputs": [],
   "source": [
    "lda_model_filepath = os.path.join('lda_model_all')"
   ]
  },
  {
   "cell_type": "code",
   "execution_count": 973,
   "metadata": {},
   "outputs": [
    {
     "name": "stdout",
     "output_type": "stream",
     "text": [
      "CPU times: user 4.86 s, sys: 1.02 s, total: 5.88 s\n",
      "Wall time: 5.31 s\n"
     ]
    }
   ],
   "source": [
    "%%time\n",
    "# workers => sets the parallelism, and should be\n",
    "# set to your number of physical cores minus one\n",
    "lda = LdaMulticore(trigram_bow_corpus,\n",
    "                   num_topics=100,\n",
    "                   id2word=trigram_dictionary,\n",
    "                   workers=6,alpha='asymmetric')\n",
    "\n",
    "lda.save(lda_model_filepath)\n",
    "\n",
    "# load the finished LDA model from disk\n",
    "lda = LdaMulticore.load(lda_model_filepath)"
   ]
  },
  {
   "cell_type": "code",
   "execution_count": 896,
   "metadata": {},
   "outputs": [],
   "source": [
    "def get_sample_review(review_number):\n",
    "    \"\"\"\n",
    "    retrieve a particular review index\n",
    "    from the reviews file and return it\n",
    "    \"\"\"\n",
    "    return list(df['joined'][:review_number])"
   ]
  },
  {
   "cell_type": "code",
   "execution_count": 1048,
   "metadata": {},
   "outputs": [],
   "source": [
    "def lda_description(review_text, min_topic_freq=0.005, exp=True):\n",
    "    \"\"\"\n",
    "    accept the original text of a review and (1) parse it with spaCy,\n",
    "    (2) apply text pre-proccessing steps, (3) create a bag-of-words\n",
    "    representation, (4) create an LDA representation, and\n",
    "    (5) print a sorted list of the top topics in the LDA representation\n",
    "    \"\"\"\n",
    "    if exp:\n",
    "        print(review_text)\n",
    "    # parse the review text with spaCy\n",
    "    parsed_review = nlp(review_text)\n",
    "    \n",
    "    # lemmatize the text and remove punctuation and whitespace\n",
    "    unigram_review = [token.lemma_ for token in parsed_review\n",
    "                      if not punct_space(token)]\n",
    "    \n",
    "    # apply the first-order and secord-order phrase models\n",
    "    bigram_review = bigram_model[unigram_review]\n",
    "    trigram_review = trigram_model[bigram_review]\n",
    "    \n",
    "    # remove any remaining stopwords\n",
    "    trigram_review = [term for term in trigram_review\n",
    "                      if not term in stop_words]\n",
    "    \n",
    "    # create a bag-of-words representation\n",
    "    review_bow = trigram_dictionary.doc2bow(trigram_review)\n",
    "    \n",
    "    # create an LDA representation\n",
    "    review_lda = lda[review_bow]\n",
    "    # sort with the most highly related topics first\n",
    "    review_lda = sorted(review_lda, key=lambda x: -x[1])\n",
    "    ret = []\n",
    "    for topic_number, freq in review_lda:\n",
    "        if freq < min_topic_freq:\n",
    "            break\n",
    "        ret.append(topic_number)\n",
    "        if exp:\n",
    "            # print the most highly related topic names and frequencies\n",
    "            print('{:25} {}'.format(topic_number,\n",
    "                                    round(freq, 3)))\n",
    "            explore_topic(topic_number=topic_number, topn=3)\n",
    "    return ret"
   ]
  },
  {
   "cell_type": "code",
   "execution_count": 742,
   "metadata": {},
   "outputs": [],
   "source": [
    "sample_review = get_sample_review(10)"
   ]
  },
  {
   "cell_type": "code",
   "execution_count": 1042,
   "metadata": {},
   "outputs": [
    {
     "name": "stdout",
     "output_type": "stream",
     "text": [
      "распоряжение в целях изучения проблем, связанных с обменом собственности, приобретением участков и зданий для иностранных дипломатических представительств в республике молдова и республики молдова за рубежом, образовать комиссию в следующем составе: осталеп валериу - заместитель министра иностранных дел и европейской интеграции (председатель комиссии) члены комиссии: виеру михай - заместитель руководителя аппарата правительства бынзару валериан - начальник управления финансов национальной экономики и капитальных вложений министерства финансов вылку-бажурян - консультант управления разработки наталья нормативных актов министерства юстиции козловски корнелия - генеральный директор агентства приватизации при министерстве экономики и торговли фуртунэ михай - заместитель примара муниципия кишинэу логош константин - начальник управления менеджмента и логистики министерства иностранных дел и европейской интеграции суручану геоpге - начальник упpавления по обслуживанию дипломатического коpпуса министеpства иностpанных дел и евpопейской интегpации\n",
      "                       16 0.9700000286102295\n",
      "term             frequency\n",
      "строка                                   0.008\n",
      "приложение                               0.006\n",
      "республики_молдова                       0.006\n"
     ]
    },
    {
     "name": "stderr",
     "output_type": "stream",
     "text": [
      "/anaconda3/lib/python3.6/site-packages/gensim/models/phrases.py:494: UserWarning: For a faster implementation, use the gensim.models.phrases.Phraser class\n",
      "  warnings.warn(\"For a faster implementation, use the gensim.models.phrases.Phraser class\")\n"
     ]
    }
   ],
   "source": [
    "lda_description(df['joined'][2075])"
   ]
  },
  {
   "cell_type": "code",
   "execution_count": 1029,
   "metadata": {},
   "outputs": [],
   "source": [
    "def explore_topic(topic_number, topn=25):\n",
    "    \"\"\"\n",
    "    accept a user-supplied topic number and\n",
    "    print out a formatted list of the top terms\n",
    "    \"\"\"\n",
    "        \n",
    "    print('term             frequency')\n",
    "\n",
    "    for term, frequency in lda.show_topic(topic_number, topn=topn):\n",
    "        print('{:40} {:.3f}'.format(term, round(frequency, 3)).replace(' ',' '))\n",
    "\n",
    "def save_topics(topn=25):\n",
    "    df = pd.DataFrame(data=list(range(topn)))\n",
    "    for topic_number in range(140):\n",
    "        df['topic_number_'+str(topic_number)] = [term for term, frequency in lda.show_topic(topic_number, topn=topn)]\n",
    "    df.to_csv()\n",
    "    return df"
   ]
  },
  {
   "cell_type": "code",
   "execution_count": 1031,
   "metadata": {},
   "outputs": [],
   "source": [
    "save_topics(25).to_csv('topics.csv', )"
   ]
  },
  {
   "cell_type": "code",
   "execution_count": 1049,
   "metadata": {},
   "outputs": [],
   "source": [
    "def topic_dist(df):\n",
    "    c = Counter()\n",
    "    for doc in df['joined']:\n",
    "        c.update(lda_description(doc, exp=False))\n",
    "    return c"
   ]
  },
  {
   "cell_type": "code",
   "execution_count": 1050,
   "metadata": {},
   "outputs": [
    {
     "name": "stderr",
     "output_type": "stream",
     "text": [
      "/anaconda3/lib/python3.6/site-packages/gensim/models/phrases.py:494: UserWarning: For a faster implementation, use the gensim.models.phrases.Phraser class\n",
      "  warnings.warn(\"For a faster implementation, use the gensim.models.phrases.Phraser class\")\n"
     ]
    },
    {
     "name": "stdout",
     "output_type": "stream",
     "text": [
      "CPU times: user 9min 58s, sys: 1min, total: 10min 59s\n",
      "Wall time: 4min 46s\n"
     ]
    }
   ],
   "source": [
    "%%time\n",
    "t_dist = topic_dist(df)"
   ]
  },
  {
   "cell_type": "code",
   "execution_count": 1058,
   "metadata": {},
   "outputs": [],
   "source": [
    "arr = []\n",
    "for k,v in t_dist.items():\n",
    "    arr= arr + ([k]*v)"
   ]
  },
  {
   "cell_type": "code",
   "execution_count": 1060,
   "metadata": {},
   "outputs": [
    {
     "data": {
      "text/plain": [
       "(array([3267., 2506., 1771., 1387.,  873., 1312., 1377., 1277., 1279.,\n",
       "         715.,   93.,  119.,  161.,   71.,   59.,  100.,  170.,   83.,\n",
       "          48.,   96.,   84.,   89.,  139.,   83.,  101.,   75.,   81.,\n",
       "         157.,   99.,   90.,  125.,   49.,   68.,  102.,  106.,  171.,\n",
       "         110.,   91.,  165.,   84.,   46.,  133.,   83.,   84.,   80.,\n",
       "          35.,   54.,  138.,   70.,  105.]),\n",
       " array([  0.  ,   2.78,   5.56,   8.34,  11.12,  13.9 ,  16.68,  19.46,\n",
       "         22.24,  25.02,  27.8 ,  30.58,  33.36,  36.14,  38.92,  41.7 ,\n",
       "         44.48,  47.26,  50.04,  52.82,  55.6 ,  58.38,  61.16,  63.94,\n",
       "         66.72,  69.5 ,  72.28,  75.06,  77.84,  80.62,  83.4 ,  86.18,\n",
       "         88.96,  91.74,  94.52,  97.3 , 100.08, 102.86, 105.64, 108.42,\n",
       "        111.2 , 113.98, 116.76, 119.54, 122.32, 125.1 , 127.88, 130.66,\n",
       "        133.44, 136.22, 139.  ]),\n",
       " <a list of 50 Patch objects>)"
      ]
     },
     "execution_count": 1060,
     "metadata": {},
     "output_type": "execute_result"
    },
    {
     "data": {
      "image/png": "[encoded data removed]",
      "text/plain": [
       "<Figure size 432x288 with 1 Axes>"
      ]
     },
     "metadata": {},
     "output_type": "display_data"
    }
   ],
   "source": [
    "plt.hist(arr, bins=50)"
   ]
  },
  {
   "cell_type": "code",
   "execution_count": 1055,
   "metadata": {},
   "outputs": [
    {
     "data": {
      "text/plain": [
       "[0,\n",
       " 1,\n",
       " 2,\n",
       " 3,\n",
       " 4,\n",
       " 5,\n",
       " 6,\n",
       " 7,\n",
       " 8,\n",
       " 9,\n",
       " 10,\n",
       " 11,\n",
       " 12,\n",
       " 13,\n",
       " 14,\n",
       " 15,\n",
       " 16,\n",
       " 17,\n",
       " 18,\n",
       " 19,\n",
       " 20,\n",
       " 21,\n",
       " 22,\n",
       " 23,\n",
       " 24,\n",
       " 25,\n",
       " 26,\n",
       " 29,\n",
       " 60,\n",
       " 55,\n",
       " 27,\n",
       " 62,\n",
       " 132,\n",
       " 97,\n",
       " 137,\n",
       " 36,\n",
       " 91,\n",
       " 105,\n",
       " 126,\n",
       " 47,\n",
       " 40,\n",
       " 33,\n",
       " 53,\n",
       " 138,\n",
       " 100,\n",
       " 120,\n",
       " 86,\n",
       " 77,\n",
       " 101,\n",
       " 81,\n",
       " 46,\n",
       " 39,\n",
       " 64,\n",
       " 34,\n",
       " 114,\n",
       " 117,\n",
       " 115,\n",
       " 108,\n",
       " 113,\n",
       " 48,\n",
       " 68,\n",
       " 32,\n",
       " 65,\n",
       " 122,\n",
       " 109,\n",
       " 124,\n",
       " 102,\n",
       " 128,\n",
       " 89,\n",
       " 58,\n",
       " 116,\n",
       " 78,\n",
       " 37,\n",
       " 42,\n",
       " 84,\n",
       " 67,\n",
       " 35,\n",
       " 70,\n",
       " 80,\n",
       " 43,\n",
       " 59,\n",
       " 133,\n",
       " 38,\n",
       " 41,\n",
       " 118,\n",
       " 107,\n",
       " 44,\n",
       " 49,\n",
       " 88,\n",
       " 96,\n",
       " 85,\n",
       " 130,\n",
       " 56,\n",
       " 110,\n",
       " 79,\n",
       " 139,\n",
       " 71,\n",
       " 136,\n",
       " 98,\n",
       " 93,\n",
       " 87,\n",
       " 90,\n",
       " 52,\n",
       " 51,\n",
       " 104,\n",
       " 57,\n",
       " 74,\n",
       " 66,\n",
       " 72,\n",
       " 54,\n",
       " 135,\n",
       " 131,\n",
       " 121,\n",
       " 83,\n",
       " 69,\n",
       " 76,\n",
       " 94,\n",
       " 31,\n",
       " 119,\n",
       " 125,\n",
       " 134,\n",
       " 73,\n",
       " 61,\n",
       " 45,\n",
       " 75,\n",
       " 92,\n",
       " 103,\n",
       " 30,\n",
       " 50,\n",
       " 112,\n",
       " 129,\n",
       " 95,\n",
       " 123,\n",
       " 111,\n",
       " 63,\n",
       " 99,\n",
       " 28,\n",
       " 127,\n",
       " 106,\n",
       " 82]"
      ]
     },
     "execution_count": 1055,
     "metadata": {},
     "output_type": "execute_result"
    }
   ],
   "source": [
    "[i for i in t_dist]"
   ]
  },
  {
   "cell_type": "code",
   "execution_count": 712,
   "metadata": {},
   "outputs": [
    {
     "data": {
      "text/plain": [
       "'молдова'"
      ]
     },
     "execution_count": 712,
     "metadata": {},
     "output_type": "execute_result"
    }
   ],
   "source": [
    "lda.id2word[1]"
   ]
  },
  {
   "cell_type": "code",
   "execution_count": 1022,
   "metadata": {},
   "outputs": [
    {
     "data": {
      "text/plain": [
       "(140, 9261)"
      ]
     },
     "execution_count": 1022,
     "metadata": {},
     "output_type": "execute_result"
    }
   ],
   "source": [
    "lda.get_topics().shape"
   ]
  },
  {
   "cell_type": "code",
   "execution_count": 713,
   "metadata": {},
   "outputs": [
    {
     "data": {
      "text/plain": [
       "[(1, 0.010086156), (27, 0.01652864), (28, 0.014120474)]"
      ]
     },
     "execution_count": 713,
     "metadata": {},
     "output_type": "execute_result"
    }
   ],
   "source": [
    "lda.get_term_topics(1)"
   ]
  },
  {
   "cell_type": "code",
   "execution_count": 1061,
   "metadata": {},
   "outputs": [
    {
     "name": "stdout",
     "output_type": "stream",
     "text": [
      "term             frequency\n",
      "dispoziţie                               0.011\n",
      "основание_части_статьи_конституции       0.010\n",
      "республики_молдова_президент_республики  0.009\n",
      "молдова_постановлять_промульгировать_закон 0.008\n",
      "президент_республики_молдова_постановлять 0.006\n",
      "республики_молдова                       0.005\n",
      "случай                                   0.004\n",
      "молдова                                  0.004\n",
      "закон                                    0.004\n",
      "пункт                                    0.004\n",
      "промульгации_закон_внесение_изменение    0.004\n",
      "privire                                  0.003\n",
      "президент_республики_молдова             0.003\n",
      "соответствие                             0.003\n",
      "промульгации_закон                       0.003\n",
      "приложение                               0.003\n",
      "президент_республики_молдова_петру       0.003\n",
      "деятельности                             0.003\n",
      "privind                                  0.002\n",
      "основание                                0.002\n",
      "слова                                    0.002\n",
      "срок                                     0.002\n",
      "изменение                                0.002\n",
      "суд                                      0.002\n",
      "контроль                                 0.002\n"
     ]
    }
   ],
   "source": [
    "explore_topic(topic_number=1)"
   ]
  },
  {
   "cell_type": "code",
   "execution_count": 1064,
   "metadata": {},
   "outputs": [
    {
     "name": "stdout",
     "output_type": "stream",
     "text": [
      "term             frequency\n",
      "dispoziţie                               0.011\n",
      "основание_части_статьи_конституции       0.010\n",
      "республики_молдова_президент_республики  0.009\n",
      "молдова_постановлять_промульгировать_закон 0.008\n",
      "президент_республики_молдова_постановлять 0.006\n",
      "республики_молдова                       0.005\n",
      "случай                                   0.004\n",
      "молдова                                  0.004\n",
      "закон                                    0.004\n",
      "пункт                                    0.004\n",
      "промульгации_закон_внесение_изменение    0.004\n",
      "privire                                  0.003\n",
      "президент_республики_молдова             0.003\n",
      "соответствие                             0.003\n",
      "промульгации_закон                       0.003\n",
      "приложение                               0.003\n",
      "президент_республики_молдова_петру       0.003\n",
      "деятельности                             0.003\n",
      "privind                                  0.002\n",
      "основание                                0.002\n",
      "слова                                    0.002\n",
      "срок                                     0.002\n",
      "изменение                                0.002\n",
      "суд                                      0.002\n",
      "контроль                                 0.002\n"
     ]
    }
   ],
   "source": [
    "explore_topic(topic_number=1)"
   ]
  },
  {
   "cell_type": "code",
   "execution_count": 1066,
   "metadata": {},
   "outputs": [
    {
     "name": "stdout",
     "output_type": "stream",
     "text": [
      "term             frequency\n",
      "республики_молдова                       0.005\n",
      "закон                                    0.004\n",
      "президент_республики_молдова_постановлять 0.004\n",
      "соответствие                             0.003\n",
      "случай                                   0.003\n",
      "приложение                               0.003\n",
      "основание_части_статьи_конституции       0.003\n",
      "республики_молдова_президент_республики  0.003\n",
      "указ                                     0.003\n",
      "пункт                                    0.003\n",
      "деятельности                             0.003\n",
      "молдова                                  0.003\n",
      "условие                                  0.003\n",
      "орган                                    0.002\n",
      "согласно                                 0.002\n",
      "лицензии                                 0.002\n",
      "являться                                 0.002\n",
      "положения                                0.002\n",
      "работа                                   0.002\n",
      "основание                                0.002\n",
      "связи                                    0.002\n",
      "молдова_постановлять_промульгировать_закон 0.002\n",
      "суд                                      0.002\n",
      "проект                                   0.002\n",
      "президент_республики_молдова_петру       0.002\n"
     ]
    }
   ],
   "source": [
    "explore_topic(topic_number=2)"
   ]
  },
  {
   "cell_type": "code",
   "execution_count": 1067,
   "metadata": {},
   "outputs": [
    {
     "name": "stdout",
     "output_type": "stream",
     "text": [
      "term             frequency\n",
      "республики_молдова                       0.011\n",
      "президент_республики_молдова_постановлять 0.005\n",
      "молдова                                  0.005\n",
      "класс                                    0.005\n",
      "пункт                                    0.004\n",
      "основание_части_статьи_конституции       0.004\n",
      "основание                                0.004\n",
      "российской_федерации                     0.003\n",
      "присвоения_классных_чинов_государственным 0.003\n",
      "служащим_1263-xiii_июль_1997             0.003\n",
      "республики_молдова_президент_республики  0.003\n",
      "закон_положение_порядок                  0.003\n",
      "закон_государственной_службе             0.003\n",
      "статьи_конституции_республики_молдова    0.002\n",
      "случай                                   0.002\n",
      "распоряжение_соответствие                0.002\n",
      "определение                              0.002\n",
      "443-xiii_мая_1995                        0.002\n",
      "документ                                 0.002\n",
      "iii_класс                                0.002\n",
      "соответствие                             0.002\n",
      "правительство                            0.002\n",
      "суд                                      0.002\n",
      "din                                      0.002\n",
      "положение                                0.002\n"
     ]
    }
   ],
   "source": [
    "explore_topic(topic_number=3)"
   ]
  },
  {
   "cell_type": "code",
   "execution_count": 979,
   "metadata": {},
   "outputs": [
    {
     "name": "stdout",
     "output_type": "stream",
     "text": [
      "term             frequency\n",
      "республики_молдова                       0.009\n",
      "парламент                                0.008\n",
      "закон                                    0.007\n",
      "случай                                   0.005\n",
      "молдова                                  0.005\n",
      "основание_части_статьи_конституции       0.004\n",
      "республики_молдова_президент_республики  0.004\n",
      "положение                                0.004\n",
      "президент_республики_молдова             0.004\n",
      "согласно                                 0.004\n",
      "pentru                                   0.004\n",
      "молдова_постановлять_промульгировать_закон 0.004\n",
      "конституционный_суд                      0.004\n",
      "пункт                                    0.003\n",
      "вопрос                                   0.003\n",
      "основание                                0.003\n",
      "соответствие                             0.003\n",
      "право                                    0.003\n",
      "являться                                 0.003\n",
      "президент_республики_молдова_постановлять 0.003\n",
      "конституции_республики_молдова           0.002\n",
      "конституции                              0.002\n",
      "часть                                    0.002\n",
      "срок                                     0.002\n",
      "организации                              0.002\n"
     ]
    }
   ],
   "source": [
    "explore_topic(topic_number=8)"
   ]
  },
  {
   "cell_type": "code",
   "execution_count": 980,
   "metadata": {},
   "outputs": [
    {
     "name": "stdout",
     "output_type": "stream",
     "text": [
      "term             frequency\n",
      "республики_молдова_президент_республики  0.024\n",
      "основание_части_статьи_конституции       0.024\n",
      "молдова_постановлять_промульгировать_закон 0.021\n",
      "промульгации_закон_внесение_изменение    0.010\n",
      "республики_молдова                       0.008\n",
      "промульгации_закон                       0.005\n",
      "президент_республики_молдова_постановлять 0.004\n",
      "президент_республики_молдова             0.004\n",
      "дополнение_закон                         0.004\n",
      "изменение_дополнение_закон               0.004\n",
      "молдова                                  0.004\n",
      "организации                              0.004\n",
      "изменение                                0.003\n",
      "президент_республики_молдова_петру       0.003\n",
      "закон                                    0.003\n",
      "случай                                   0.003\n",
      "акты                                     0.002\n",
      "владимир_воронин_кишинэу_декабрь         0.002\n",
      "правительство                            0.002\n",
      "2002                                     0.002\n",
      "дополнение_некоторые_законодательные_акты 0.002\n",
      "промульгации_закон_внесение_изменения    0.002\n",
      "статьи_конституции_республики_молдова    0.002\n",
      "работа                                   0.002\n",
      "между_правительство_республики_молдова   0.002\n"
     ]
    }
   ],
   "source": [
    "explore_topic(topic_number=4)"
   ]
  },
  {
   "cell_type": "code",
   "execution_count": 981,
   "metadata": {},
   "outputs": [
    {
     "name": "stdout",
     "output_type": "stream",
     "text": [
      "term             frequency\n",
      "республики_молдова                       0.010\n",
      "молдова                                  0.009\n",
      "президент_республики_молдова_постановлять 0.006\n",
      "пункт                                    0.005\n",
      "кишинэу                                  0.004\n",
      "случай                                   0.003\n",
      "президент_республики_молдова_петру       0.003\n",
      "документ                                 0.003\n",
      "настоящий_указ_вступать_силу             0.003\n",
      "указ_президента_республики_молдова       0.003\n",
      "основание_части_статьи_конституции       0.003\n",
      "банк                                     0.003\n",
      "являться                                 0.003\n",
      "республики_молдова_президент_республики  0.003\n",
      "указ                                     0.003\n",
      "судья                                    0.003\n",
      "день_подписания                          0.002\n",
      "президент_республики_молдова             0.002\n",
      "банка                                    0.002\n",
      "связи                                    0.002\n",
      "статьи_конституции_республики_молдова    0.002\n",
      "распоряжение                             0.002\n",
      "основание                                0.002\n",
      "совет                                    0.002\n",
      "николай                                  0.002\n"
     ]
    }
   ],
   "source": [
    "explore_topic(topic_number=5)"
   ]
  },
  {
   "cell_type": "code",
   "execution_count": 982,
   "metadata": {},
   "outputs": [
    {
     "name": "stdout",
     "output_type": "stream",
     "text": [
      "term             frequency\n",
      "республики_молдова                       0.009\n",
      "закон                                    0.006\n",
      "ценных_бумага                            0.005\n",
      "основание                                0.005\n",
      "президент_республики_молдова_постановлять 0.005\n",
      "случай                                   0.004\n",
      "республики_молдова_президент_республики  0.004\n",
      "кишинэу                                  0.004\n",
      "основание_части_статьи_конституции       0.004\n",
      "молдова_постановлять_промульгировать_закон 0.004\n",
      "часть                                    0.004\n",
      "парламент                                0.003\n",
      "статьи_конституции_республики_молдова    0.003\n",
      "промульгации_закон_внесение_изменение    0.003\n",
      "являться                                 0.003\n",
      "мун                                      0.003\n",
      "промульгировать_закон                    0.003\n",
      "вопрос                                   0.003\n",
      "порядок                                  0.003\n",
      "молдова                                  0.003\n",
      "согласно                                 0.002\n",
      "лица                                     0.002\n",
      "деятельности                             0.002\n",
      "президент_республики_молдова             0.002\n",
      "имущество                                0.002\n"
     ]
    }
   ],
   "source": [
    "explore_topic(topic_number=6)"
   ]
  },
  {
   "cell_type": "code",
   "execution_count": 983,
   "metadata": {},
   "outputs": [
    {
     "name": "stdout",
     "output_type": "stream",
     "text": [
      "term             frequency\n",
      "случай                                   0.008\n",
      "работа                                   0.007\n",
      "работы                                   0.005\n",
      "февраль_2003                             0.005\n",
      "закон                                    0.004\n",
      "заявление                                0.004\n",
      "порядок                                  0.004\n",
      "комиссии                                 0.003\n",
      "приложение                               0.003\n",
      "республики_молдова                       0.003\n",
      "согласно                                 0.003\n",
      "орган                                    0.003\n",
      "акт                                      0.003\n",
      "срок                                     0.003\n",
      "либо                                     0.003\n",
      "контроль                                 0.003\n",
      "работник                                 0.002\n",
      "часть                                    0.002\n",
      "являться                                 0.002\n",
      "деятельности                             0.002\n",
      "судебный_инстанция                       0.002\n",
      "решение                                  0.002\n",
      "должный                                  0.002\n",
      "пункт                                    0.002\n",
      "суд                                      0.002\n"
     ]
    }
   ],
   "source": [
    "explore_topic(topic_number=138)"
   ]
  },
  {
   "cell_type": "code",
   "execution_count": 984,
   "metadata": {},
   "outputs": [],
   "source": [
    "from gensim.models import Word2Vec\n",
    "\n",
    "trigram_sentences = LineSentence(trigram_sentences_filepath)\n",
    "word2vec_filepath = os.path.join( 'word2vec_model_all')"
   ]
  },
  {
   "cell_type": "code",
   "execution_count": 988,
   "metadata": {},
   "outputs": [
    {
     "name": "stdout",
     "output_type": "stream",
     "text": [
      "2 training epochs so far.\n",
      "CPU times: user 41.6 s, sys: 632 ms, total: 42.3 s\n",
      "Wall time: 13.2 s\n"
     ]
    }
   ],
   "source": [
    "%%time\n",
    "\n",
    "# this is a bit time consuming - make the if statement True\n",
    "# if you want to train the word2vec model yourself.\n",
    "#if 0 == 1:\n",
    "\n",
    "# initiate the model and perform the first epoch of training\n",
    "food2vec = Word2Vec(trigram_sentences, size=100, window=5,min_count=20, sg=1, workers=4)\n",
    "\n",
    "food2vec.save(word2vec_filepath)\n",
    "\n",
    "# perform another 11 epochs of training\n",
    "food2vec.train(trigram_sentences, total_examples=4232, epochs=11)\n",
    "food2vec.save(word2vec_filepath)\n",
    "\n",
    "# load the finished model from disk\n",
    "food2vec = Word2Vec.load(word2vec_filepath)\n",
    "food2vec.init_sims()\n",
    "\n",
    "print( u'{} training epochs so far.'.format(food2vec.train_count))"
   ]
  },
  {
   "cell_type": "code",
   "execution_count": 989,
   "metadata": {},
   "outputs": [
    {
     "name": "stdout",
     "output_type": "stream",
     "text": [
      "CPU times: user 14.2 ms, sys: 1.58 ms, total: 15.8 ms\n",
      "Wall time: 14.4 ms\n"
     ]
    },
    {
     "name": "stderr",
     "output_type": "stream",
     "text": [
      "/anaconda3/lib/python3.6/site-packages/ipykernel_launcher.py:14: DeprecationWarning: Call to deprecated `syn0norm` (Attribute will be removed in 4.0.0, use self.wv.vectors_norm instead).\n",
      "  \n"
     ]
    }
   ],
   "source": [
    "%%time\n",
    "# build a list of the terms, integer indices,\n",
    "# and term counts from the food2vec model vocabulary\n",
    "ordered_vocab = [(term, voc.index, voc.count)\n",
    "                 for term, voc in food2vec.wv.vocab.items()]\n",
    "\n",
    "# sort by the term counts, so the most common terms appear first\n",
    "ordered_vocab = sorted(ordered_vocab, key=lambda x: -x[2]) #(term, index, count)\n",
    "\n",
    "# unzip the terms, integer indices, and counts into separate lists\n",
    "ordered_terms, term_indices, term_counts = zip(*ordered_vocab)\n",
    "\n",
    "# create a DataFrame with the food2vec vectors as data,\n",
    "# and the terms as row labels\n",
    "word_vectors = pd.DataFrame(food2vec.wv.syn0norm[term_indices, :],\n",
    "                            index=ordered_terms)\n"
   ]
  },
  {
   "cell_type": "code",
   "execution_count": 1272,
   "metadata": {},
   "outputs": [],
   "source": [
    "\n",
    "def get_related_termss(token, topn=10):\n",
    "    \"\"\"\n",
    "    look up the topn most similar terms to token\n",
    "    and print them as a formatted list\n",
    "    \"\"\"\n",
    "    for word, similarity in food2vec.wv.most_similar(positive=[t.lower() for t in token], topn=topn):\n",
    "\n",
    "        print(u'{:20} {}'.format(word, round(similarity, 3)))\n",
    "def get_related_terms(token, topn=10):\n",
    "    \"\"\"\n",
    "    look up the topn most similar terms to token\n",
    "    and print them as a formatted list\n",
    "    \"\"\"\n",
    "    \n",
    "    for word, similarity in food2vec.wv.most_similar(positive=[token.lower()], topn=topn):\n",
    "\n",
    "        print(u'{:20} {}'.format(word, round(similarity, 3)))"
   ]
  },
  {
   "cell_type": "code",
   "execution_count": 1273,
   "metadata": {},
   "outputs": [
    {
     "name": "stdout",
     "output_type": "stream",
     "text": [
      "среды                0.909\n",
      "повышение_квалификации 0.905\n",
      "хозяйственной_деятельности 0.902\n",
      "занятия              0.899\n",
      "эффективное          0.897\n",
      "задачи               0.897\n",
      "внимания             0.894\n",
      "министерства_департаменты 0.894\n",
      "задание              0.894\n",
      "деятельности_область_исследование_инновация 0.892\n"
     ]
    }
   ],
   "source": [
    "get_related_terms(u'сила')"
   ]
  },
  {
   "cell_type": "code",
   "execution_count": 1274,
   "metadata": {},
   "outputs": [
    {
     "name": "stdout",
     "output_type": "stream",
     "text": [
      "главный              0.913\n",
      "главный_бухгалтер    0.876\n",
      "руководитель         0.876\n",
      "главного_бухгалтера  0.874\n",
      "заверяться_печать    0.874\n",
      "подразделения        0.872\n",
      "фирмы                0.869\n",
      "инспектор            0.868\n",
      "электронные          0.859\n",
      "телефон              0.854\n"
     ]
    }
   ],
   "source": [
    "get_related_terms(u'бухгалтер')"
   ]
  },
  {
   "cell_type": "code",
   "execution_count": 1275,
   "metadata": {},
   "outputs": [
    {
     "name": "stdout",
     "output_type": "stream",
     "text": [
      "часы                 0.694\n",
      "протяжение           0.687\n",
      "окончание            0.683\n",
      "предыдущих           0.672\n",
      "конкретный           0.649\n",
      "рабочего_времени     0.648\n",
      "начинаться           0.648\n",
      "составления          0.647\n",
      "февраль              0.645\n",
      "отбывания_наказания  0.644\n",
      "раз                  0.643\n",
      "январь               0.642\n",
      "рабочего_день        0.639\n"
     ]
    }
   ],
   "source": [
    "get_related_terms(u'год', topn=13)"
   ]
  },
  {
   "cell_type": "code",
   "execution_count": 1276,
   "metadata": {},
   "outputs": [
    {
     "name": "stdout",
     "output_type": "stream",
     "text": [
      "представительства    0.777\n",
      "других_государство   0.769\n",
      "юридические_лица     0.76\n",
      "физические_лица      0.75\n",
      "иным                 0.75\n",
      "иностранные          0.744\n",
      "статус               0.742\n",
      "пользоваться         0.738\n",
      "иностранный          0.736\n",
      "объединения          0.734\n",
      "созданные            0.73\n",
      "общественных_организация 0.726\n",
      "других_страна        0.724\n"
     ]
    }
   ],
   "source": [
    "get_related_terms(u'страна', topn=13)"
   ]
  },
  {
   "cell_type": "code",
   "execution_count": 1224,
   "metadata": {},
   "outputs": [],
   "source": [
    "def word_algebra(add=[], subtract=[], topn=5):\n",
    "    \"\"\"\n",
    "    combine the vectors associated with the words provided\n",
    "    in add= and subtract=, look up the topn most similar\n",
    "    terms to the combined vector, and print the result(s)\n",
    "    \"\"\"\n",
    "    answers = food2vec.wv.most_similar(positive=add, negative=subtract, topn=topn)\n",
    "\n",
    "    pr = ''\n",
    "    if len(add) >0:\n",
    "        pr += ' + '.join(add)\n",
    "\n",
    "    if (len(add) >0) & (len(subtract)>0):\n",
    "        pr += ' - '\n",
    "\n",
    "    if len(subtract)>0:\n",
    "        pr += ' - '.join(subtract)\n",
    "\n",
    "    if topn == 1:\n",
    "        print(pr, '=', answers[0][0])\n",
    "    else:\n",
    "        print(pr, '=',', '.join([term.replace('_', ' ') for term, similarity in answers]))"
   ]
  },
  {
   "cell_type": "code",
   "execution_count": 1226,
   "metadata": {},
   "outputs": [
    {
     "name": "stdout",
     "output_type": "stream",
     "text": [
      "внимание = строке порядок указанном, сын, проживает республике молдова\n"
     ]
    }
   ],
   "source": [
    "word_algebra(subtract=[u'внимание'], topn=3)"
   ]
  },
  {
   "cell_type": "code",
   "execution_count": 1256,
   "metadata": {},
   "outputs": [
    {
     "name": "stdout",
     "output_type": "stream",
     "text": [
      "бухгалтер + инспектор = главный, фирмы, секретарь совет, заверяться печать, ко-\n",
      "бухгалтер - главный = период поддержания, отчетного период, снятия, последующих, остаток\n",
      "бухгалтер + печать = уполномоченного лица, подпись руководителя, электронные, заверяться печать, фамилия имя отчество\n",
      "город + печать = фамилия имя отчество, местонахождения, бухгалтер, налоговый, расположения\n",
      "город + суд = районный, пост, городов, фискальные коды, занимаемой должности\n",
      "город - бухгалтер = населенных пункт, единицы, статус, 123, акцизы\n",
      "город + суд = районный, пост, городов, фискальные коды, занимаемой должности\n",
      "уезд + суд = городов, районный, занимаемой должности, примэрии, обжаловано\n"
     ]
    }
   ],
   "source": [
    "word_algebra(add=[u'бухгалтер', u'инспектор'])#главный\n",
    "word_algebra(add=[u'бухгалтер'], subtract=['главный'])#следующего\n",
    "word_algebra(add=[u'бухгалтер', u'печать'])#заверяться_печать\n",
    "word_algebra(add=[u'город', u'печать'])#таможенного\n",
    "word_algebra(add=[u'город', u'суд'])#районный\n",
    "word_algebra(add=[u'город'], subtract=['бухгалтер'])#продукции\n",
    "word_algebra(add=[u'город','суд'])#выполненных\n",
    "word_algebra(add=[u'уезд','суд'])#город"
   ]
  },
  {
   "cell_type": "code",
   "execution_count": 1266,
   "metadata": {},
   "outputs": [
    {
     "name": "stdout",
     "output_type": "stream",
     "text": [
      "женщины + отец = возраст лет, органы опеки попечительства, матери, болезнь, привлекаться\n"
     ]
    }
   ],
   "source": [
    "word_algebra(add=[u'женщины', u'отец'])"
   ]
  },
  {
   "cell_type": "code",
   "execution_count": 1230,
   "metadata": {},
   "outputs": [
    {
     "name": "stdout",
     "output_type": "stream",
     "text": [
      "валюта + суд = государственной пошлины, размер алименты, взыскиваться, опека попечительство, изъять\n",
      "валюта + язык = казначейский счет доход, молдавских, государственный налоговый регистр, пример, таможенных платёж\n",
      "валюта - бухгалтер = иностранный валюта, республика молдова, налогового кодекс, акциз, предмет лизинг\n",
      "валюта + акциз = ндс, таможенных пошлина, казначейский счет доход, таможенных платёж, комиссионные\n",
      "валюта + акциз + импорт = таможенных платёж, таможенных пошлина, ндс, казначейский счет доход, импорт товар услуга\n",
      "валюта + чек = получатель, подразделение государственного казначейства, код валюты, осуществление расчёт, акт приемки\n"
     ]
    }
   ],
   "source": [
    "word_algebra(add=[u'валюта', u'суд']) #банкноты\n",
    "word_algebra(add=[u'валюта', u'язык']) #казначейский_счет_доход\n",
    "word_algebra(add=[u'валюта'], subtract=[u'бухгалтер'])#налогового_кодекс\n",
    "word_algebra(add=[u'валюта', u'акциз'])#ндс\n",
    "word_algebra(add=[u'валюта', u'акциз', u'импорт'])#таможенных_платёж\n",
    "word_algebra(add=[u'валюта', u'чек'])#получатель"
   ]
  },
  {
   "cell_type": "code",
   "execution_count": 1268,
   "metadata": {},
   "outputs": [
    {
     "name": "stdout",
     "output_type": "stream",
     "text": [
      "исполнение_обязанность 0.965\n",
      "памятник             0.956\n",
      "опекунов_попечителей 0.952\n",
      "районные             0.951\n",
      "воспитания           0.949\n",
      "примэрия             0.949\n",
      "семье                0.944\n",
      "привлекаться         0.942\n",
      "опеки_попечительства 0.942\n",
      "гражданского         0.94\n"
     ]
    }
   ],
   "source": [
    "get_related_terms(u'женщины')"
   ]
  },
  {
   "cell_type": "code",
   "execution_count": 1232,
   "metadata": {},
   "outputs": [
    {
     "name": "stdout",
     "output_type": "stream",
     "text": [
      "население_лей        0.778\n",
      "тыс.лей              0.737\n",
      "2,5                  0.733\n",
      "тыс                  0.721\n",
      "ная                  0.692\n",
      "средний              0.692\n",
      "млн                  0.691\n",
      "дилера               0.687\n",
      "государственным_облигация 0.68\n",
      "снг                  0.678\n"
     ]
    }
   ],
   "source": [
    "get_related_terms(u'лей')"
   ]
  },
  {
   "cell_type": "code",
   "execution_count": 1233,
   "metadata": {},
   "outputs": [
    {
     "name": "stdout",
     "output_type": "stream",
     "text": [
      "снг                  0.87\n",
      "румыния              0.866\n",
      "население_лей        0.86\n",
      "400                  0.859\n",
      "россия               0.857\n",
      "usd                  0.854\n",
      "700                  0.845\n",
      "840                  0.827\n",
      "беларусь             0.827\n",
      "2,5                  0.826\n"
     ]
    }
   ],
   "source": [
    "get_related_terms(u'сша')"
   ]
  },
  {
   "cell_type": "code",
   "execution_count": 1234,
   "metadata": {},
   "outputs": [
    {
     "name": "stdout",
     "output_type": "stream",
     "text": [
      "социальному_страхование 0.966\n",
      "пенсионеров          0.96\n",
      "уход_ребёнок         0.957\n",
      "инвалидности         0.953\n",
      "надбавка             0.95\n",
      "особо                0.946\n",
      "пособие              0.945\n",
      "заработный_плату     0.944\n",
      "пособия              0.937\n",
      "заработный_плата     0.934\n",
      "пенсионер + лей = размер менее, надбавка, тонна, смена, \\xf5\n",
      "пенсионер - лей = свободы, преступление, последствие, наказания, прав свобода\n"
     ]
    }
   ],
   "source": [
    "get_related_terms(u'пенсионер')\n",
    "word_algebra(add=[u'пенсионер', u'лей'])# , subtract=[u'обжалованы'])\n",
    "word_algebra(add=[u'пенсионер'], subtract=[u'лей'])"
   ]
  },
  {
   "cell_type": "code",
   "execution_count": 1279,
   "metadata": {},
   "outputs": [
    {
     "name": "stdout",
     "output_type": "stream",
     "text": [
      "вышеуказанного       0.753\n",
      "открытие             0.751\n",
      "чеков_иностранной_валюте 0.751\n",
      "наличный_иностранный_валюта 0.744\n",
      "касса                0.736\n",
      "изъять               0.734\n",
      "взыскание            0.732\n",
      "оставаться           0.727\n",
      "налоговых_обязательство 0.726\n",
      "пополнения           0.725\n"
     ]
    }
   ],
   "source": [
    "get_related_terms(u'РАСПОРЯЖЕНИЕ')"
   ]
  },
  {
   "cell_type": "code",
   "execution_count": 1236,
   "metadata": {},
   "outputs": [
    {
     "name": "stdout",
     "output_type": "stream",
     "text": [
      "премьер_министр      0.887\n",
      "примара              0.877\n",
      "избран               0.871\n",
      "примар               0.864\n",
      "избираться           0.858\n",
      "кандидатура          0.853\n",
      "осуществлять_полномочия 0.85\n",
      "избрания             0.849\n",
      "премьер_министра     0.848\n",
      "избрать              0.847\n",
      "студент + валюта = дорога, взаимозачет, таможенных платёж, валютной выручки, проезд\n",
      "пенсионер - лей = свободы, преступление, последствие, наказания, прав свобода\n"
     ]
    }
   ],
   "source": [
    "get_related_terms(u'президент', )\n",
    "word_algebra(add=[u'студент', u'валюта'])# , subtract=[u'обжалованы'])\n",
    "word_algebra(add=[u'пенсионер'], subtract=[u'лей'])"
   ]
  },
  {
   "cell_type": "code",
   "execution_count": 1237,
   "metadata": {},
   "outputs": [
    {
     "name": "stdout",
     "output_type": "stream",
     "text": [
      "закон - народ = monitorul oficial republicii moldova, постановление правительства республики молдова, регламент, утрачивать силу, инструкции\n"
     ]
    }
   ],
   "source": [
    "# get_related_termss([u'закон',u'народ'], topn=40)\n",
    "word_algebra(add=[u'закон'], subtract=[u'народ'])"
   ]
  },
  {
   "cell_type": "code",
   "execution_count": 1238,
   "metadata": {},
   "outputs": [
    {
     "name": "stdout",
     "output_type": "stream",
     "text": [
      "народ - закон = дела, семьи, гум, социальный, интерес\n",
      "дела + закон = инстанция, орган публичной власти, силы, сути, недопустимо\n",
      "закон + народ = власть, суверенитет, подразумевать, ущемлять, равенство\n",
      "народ + закон = власть, суверенитет, подразумевать, ущемлять, равенство\n"
     ]
    }
   ],
   "source": [
    "word_algebra(add=[u'народ'], subtract=[u'закон'])\n",
    "word_algebra(add=[u'дела', u'закон'], topn=5)\n",
    "word_algebra(add=[u'закон', u'народ'])\n",
    "word_algebra(add=[u'народ', u'закон'])"
   ]
  },
  {
   "cell_type": "code",
   "execution_count": 1239,
   "metadata": {},
   "outputs": [
    {
     "name": "stdout",
     "output_type": "stream",
     "text": [
      "товар + закон = перемещения, отношений между, предмет лизинг, платеж, обязательное\n",
      "товар - закон = импортера, ввоз, канал, склад, груз\n"
     ]
    }
   ],
   "source": [
    "word_algebra(add=[u'товар', u'закон'], topn=5)\n",
    "word_algebra(add=[u'товар'], subtract=[u'закон'], topn=5)"
   ]
  },
  {
   "cell_type": "code",
   "execution_count": 1241,
   "metadata": {},
   "outputs": [
    {
     "name": "stdout",
     "output_type": "stream",
     "text": [
      "молдова + сша = снг, румыния, беларусь, украина, россия\n",
      "молдова + россия = румыния, беларусь, снг, украина, население лей\n",
      "молдова + лей = население лей, снг, румыния, 2,5, украина\n",
      "молдова - румыния = национальный банк молдова, рассмотрение, разрешения, дело, вместе\n",
      "молдова - румыния = национальный банк молдова, рассмотрение, разрешения, дело, вместе\n",
      "молдова - россия = национальный банк молдова, представления, разрешения, вместе, рассмотрение\n"
     ]
    }
   ],
   "source": [
    "word_algebra(add=[u'молдова', u'сша'])# , subtract=[u'обжалованы'])\n",
    "word_algebra(add=[u'молдова', u'россия'])# , subtract=[u'обжалованы'])\n",
    "word_algebra(add=[u'молдова', u'лей'])# , subtract=[u'обжалованы'])\n",
    "\n",
    "word_algebra(add=[u'молдова'], subtract=[u'румыния'])# , subtract=[u'обжалованы'])\n",
    "word_algebra(add=[u'молдова'], subtract=[u'румыния'])# , subtract=[u'обжалованы'])\n",
    "word_algebra(add=[u'молдова'], subtract=[u'россия'])# , subtract=[u'обжалованы'])"
   ]
  },
  {
   "cell_type": "code",
   "execution_count": 1242,
   "metadata": {},
   "outputs": [
    {
     "name": "stdout",
     "output_type": "stream",
     "text": [
      "штраф - наказание = министерство финансы, государственный бюджет, текущие счета, деньга, выкуп гцб\n",
      "штраф + наказание = осуждение, материального ущерб, наказания, лишение свободы, лишения свободы\n"
     ]
    }
   ],
   "source": [
    "word_algebra(add=[u'штраф'], subtract=[u'наказание'])\n",
    "word_algebra(add=[u'штраф', u'наказание'])"
   ]
  },
  {
   "cell_type": "code",
   "execution_count": 1244,
   "metadata": {},
   "outputs": [
    {
     "name": "stdout",
     "output_type": "stream",
     "text": [
      "преступление - экспертиза = гражданин республики молдова, совершенное, неприкосновенность, гражданства, наказываться лишение свободы срок\n"
     ]
    }
   ],
   "source": [
    "word_algebra(add=[u'преступление'], subtract=[ u'экспертиза'])"
   ]
  },
  {
   "cell_type": "code",
   "execution_count": 1245,
   "metadata": {},
   "outputs": [
    {
     "name": "stdout",
     "output_type": "stream",
     "text": [
      "гражданин_республики_молдова - закон = пользоваться, физические лица, без гражданства, украина, иностранных граждан лиц, международные, семьи, защита, иностранные гражданин лица без, гражданства\n"
     ]
    }
   ],
   "source": [
    "word_algebra(add=[u'гражданин_республики_молдова'], subtract=[ u'закон'])"
   ]
  },
  {
   "cell_type": "code",
   "execution_count": 1247,
   "metadata": {},
   "outputs": [
    {
     "name": "stdout",
     "output_type": "stream",
     "text": [
      "анализ + документ = хозяйствующих субъектов, основываться, обоснование, экспертизы, рабочих место\n",
      "анализ - документ = оценка, политики, национальной экономики, энергетики, исследование\n",
      "документ - анализ = право, подписи, лица, оттиск печати, надписи\n"
     ]
    }
   ],
   "source": [
    "word_algebra(add=[u'анализ',  u'документ'])\n",
    "word_algebra(add=[u'анализ'], subtract=[u'документ'])\n",
    "word_algebra(add=[u'документ'], subtract=[u'анализ'])"
   ]
  },
  {
   "cell_type": "code",
   "execution_count": 1248,
   "metadata": {},
   "outputs": [
    {
     "name": "stdout",
     "output_type": "stream",
     "text": [
      "молдова - сша = pешение, президента республики молдова, рассмотрения, кодекс конституционной юрисдикции, выборов\n"
     ]
    }
   ],
   "source": [
    "word_algebra(add=[u'молдова'], subtract=[u'сша'])# , subtract=[u'обжалованы'])"
   ]
  },
  {
   "cell_type": "code",
   "execution_count": 1250,
   "metadata": {},
   "outputs": [
    {
     "name": "stdout",
     "output_type": "stream",
     "text": [
      "железной_дороге + валюта = багаж, валютной выручки, таможенных платёж, пример, контейнер\n",
      "город - язык = кишинэу, состав, уезд, акб, бэлць\n",
      "расторжение_брак - обжалованы = железный дорога, ремонт, груз, дома, лаборатория\n"
     ]
    }
   ],
   "source": [
    "word_algebra(add=[u'железной_дороге', u'валюта'])# , subtract=[u'обжалованы'])\n",
    "word_algebra(add=[u'город'], subtract=[u'язык'])# , subtract=[u'обжалованы'])\n",
    "word_algebra(add=[u'расторжение_брак'], subtract=[u'обжалованы'])# , subtract=[u'обжалованы'])"
   ]
  },
  {
   "cell_type": "code",
   "execution_count": 1254,
   "metadata": {},
   "outputs": [
    {
     "name": "stdout",
     "output_type": "stream",
     "text": [
      "семья + лей = двор, школа, сельскохозяйственной, жильё, учащимся\n",
      "семья - лей = воспитание, последствие, общественного, охраны, несовершеннолетних\n",
      "город - язык = кишинэу, состав, уезд, акб, бэлць\n"
     ]
    }
   ],
   "source": [
    "word_algebra(add=[u'семья', u'лей'])# , subtract=[u'обжалованы'])\n",
    "word_algebra(add=[u'семья'], subtract=[u'лей'])# , subtract=[u'обжалованы'])\n",
    "word_algebra(add=[u'город'], subtract=[u'язык'])# , subtract=[u'обжалованы'])"
   ]
  },
  {
   "cell_type": "code",
   "execution_count": 1119,
   "metadata": {},
   "outputs": [
    {
     "name": "stdout",
     "output_type": "stream",
     "text": [
      "CPU times: user 4.72 ms, sys: 35.4 ms, total: 40.1 ms\n",
      "Wall time: 120 ms\n"
     ]
    }
   ],
   "source": [
    "%%time\n",
    "\n",
    "from sklearn.manifold import TSNE\n",
    "\n",
    "tsne_input = word_vectors.drop(stop_words, errors=u'ignore')\n",
    "tsne_input = tsne_input.head(10000)\n",
    "tsne_filepath = os.path.join(u'tsne_model')\n",
    "tsne_vectors_filepath = os.path.join(u'tsne_vectors.npy')"
   ]
  },
  {
   "cell_type": "code",
   "execution_count": 1120,
   "metadata": {},
   "outputs": [
    {
     "name": "stdout",
     "output_type": "stream",
     "text": [
      "CPU times: user 4min 16s, sys: 18.6 s, total: 4min 35s\n",
      "Wall time: 4min 35s\n"
     ]
    }
   ],
   "source": [
    "%%time\n",
    "\n",
    "if 1 == 1:    \n",
    "    tsne = TSNE(perplexity=100)\n",
    "    tsne_vectors = tsne.fit_transform(tsne_input.values)\n",
    "    #with open(tsne_filepath, 'w') as f:\n",
    "    #    pickle.dump(tsne, f)\n",
    "\n",
    "    pd.np.save(tsne_vectors_filepath, tsne_vectors)"
   ]
  },
  {
   "cell_type": "code",
   "execution_count": 1121,
   "metadata": {},
   "outputs": [],
   "source": [
    "tsne_vectors = pd.DataFrame(tsne_vectors,\n",
    "                            index=pd.Index(tsne_input.index),\n",
    "                            columns=[u'x_coord', u'y_coord'])\n",
    "\n",
    "tsne_vectors[u'word'] = tsne_vectors.index"
   ]
  },
  {
   "cell_type": "code",
   "execution_count": 1122,
   "metadata": {},
   "outputs": [],
   "source": [
    "tsne_vectors.to_pickle('bokeh_100')"
   ]
  },
  {
   "cell_type": "code",
   "execution_count": 843,
   "metadata": {},
   "outputs": [
    {
     "ename": "TypeError",
     "evalue": "write() argument must be str, not bytes",
     "output_type": "error",
     "traceback": [
      "\u001b[0;31m---------------------------------------------------------------------------\u001b[0m",
      "\u001b[0;31mTypeError\u001b[0m                                 Traceback (most recent call last)",
      "\u001b[0;32m<timed exec>\u001b[0m in \u001b[0;36m<module>\u001b[0;34m()\u001b[0m\n",
      "\u001b[0;31mTypeError\u001b[0m: write() argument must be str, not bytes"
     ]
    }
   ],
   "source": [
    "pd.np.save('tsne_values', tsne_input.values)\n",
    "pd.DataFrame.to_pickle( tsne_input, 'tsne_input')"
   ]
  },
  {
   "cell_type": "code",
   "execution_count": 849,
   "metadata": {},
   "outputs": [
    {
     "data": {
      "text/plain": [
       "array([[ 53.353573 , -15.902899 ],\n",
       "       [-31.080439 , -22.348173 ],\n",
       "       [ 34.66714  , -42.139538 ],\n",
       "       ...,\n",
       "       [ 17.969688 ,  -4.7765765],\n",
       "       [-27.796118 , -53.758804 ],\n",
       "       [-13.999111 , -14.578036 ]], dtype=float32)"
      ]
     },
     "execution_count": 849,
     "metadata": {},
     "output_type": "execute_result"
    }
   ],
   "source": [
    "tsne_vectors"
   ]
  },
  {
   "cell_type": "code",
   "execution_count": 1123,
   "metadata": {},
   "outputs": [],
   "source": [
    "pd.DataFrame.to_pickle(tsne_vectors, 'tsne_df_100')"
   ]
  },
  {
   "cell_type": "code",
   "execution_count": 638,
   "metadata": {},
   "outputs": [],
   "source": [
    "pd.np.save(tsne_vectors_filepath, tsne_vectors)\n",
    "\n",
    "from bokeh.plotting import figure, show, output_notebook\n",
    "from bokeh.models import HoverTool, ColumnDataSource, value\n",
    "\n",
    "output_notebook()\n",
    "\n",
    "# add our DataFrame as a ColumnDataSource for Bokeh\n",
    "plot_data = ColumnDataSource(pd.DataFrame(tsne_vectors, columns=['x', 'y']))\n",
    "\n",
    "# create the plot and configure the\n",
    "# title, dimensions, and tools\n",
    "tsne_plot = figure(title=u't-SNE Word Embeddings',\n",
    "                   plot_width = 800,\n",
    "                   plot_height = 800,\n",
    "                   tools= (u'pan, wheel_zoom, box_zoom,'\n",
    "                           u'box_select, reset'),\n",
    "                   active_scroll=u'wheel_zoom')\n",
    "\n",
    "# add a hover tool to display words on roll-over\n",
    "tsne_plot.add_tools( HoverTool(tooltips = u'@word') )\n",
    "\n",
    "# draw the words as circles on the plot\n",
    "tsne_plot.circle(u'x_coord', u'y_coord', source=plot_data,\n",
    "                 color=u'blue', line_alpha=0.2, fill_alpha=0.1,\n",
    "                 size=10, hover_line_color=u'black')\n",
    "\n",
    "# configure visual elements of the plot\n",
    "tsne_plot.title.text_font_size = value(u'16pt')\n",
    "tsne_plot.xaxis.visible = False\n",
    "tsne_plot.yaxis.visible = False\n",
    "tsne_plot.grid.grid_line_color = None\n",
    "tsne_plot.outline_line_color = None\n",
    "\n",
    "# engage!\n",
    "show(tsne_plot);"
   ]
  },
  {
   "cell_type": "code",
   "execution_count": null,
   "metadata": {},
   "outputs": [],
   "source": []
  }
 ],
 "metadata": {
  "kernelspec": {
   "display_name": "Python 3",
   "language": "python",
   "name": "python3"
  },
  "language_info": {
   "codemirror_mode": {
    "name": "ipython",
    "version": 3
   },
   "file_extension": ".py",
   "mimetype": "text/x-python",
   "name": "python",
   "nbconvert_exporter": "python",
   "pygments_lexer": "ipython3",
   "version": "3.6.5"
  }
 },
 "nbformat": 4,
 "nbformat_minor": 2
}
